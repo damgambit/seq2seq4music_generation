{
 "cells": [
  {
   "cell_type": "code",
   "execution_count": 1,
   "metadata": {},
   "outputs": [
    {
     "name": "stdout",
     "output_type": "stream",
     "text": [
      "[*] Converting songs to matrix\n"
     ]
    },
    {
     "name": "stderr",
     "output_type": "stream",
     "text": [
      "  1%|█                                                                                 | 2/164 [00:00<00:29,  5.49it/s]C:\\Users\\Damygame\\Anaconda3\\envs\\tensorflow\\lib\\site-packages\\midi-0.2.3-py3.6.egg\\midi\\fileio.py:68: Warning: Unknown Meta MIDI Event: 9\n",
      " 46%|█████████████████████████████████████▌                                           | 76/164 [00:40<00:46,  1.88it/s]C:\\Users\\Damygame\\Anaconda3\\envs\\tensorflow\\lib\\site-packages\\midi-0.2.3-py3.6.egg\\midi\\fileio.py:68: Warning: Unknown Meta MIDI Event: 10\n",
      "100%|████████████████████████████████████████████████████████████████████████████████| 164/164 [00:49<00:00,  3.33it/s]\n"
     ]
    },
    {
     "name": "stdout",
     "output_type": "stream",
     "text": [
      "[*] Converted 163 songs to matrix\n",
      "\n",
      "\n",
      "\n",
      "(60, 156)\n",
      "Processing song: 0/1441\n",
      "Processing song: 50/1441\n",
      "Processing song: 100/1441\n",
      "Processing song: 150/1441\n",
      "Processing song: 200/1441\n",
      "Processing song: 250/1441\n",
      "Processing song: 300/1441\n",
      "Processing song: 350/1441\n",
      "Processing song: 400/1441\n",
      "Processing song: 450/1441\n",
      "Processing song: 500/1441\n",
      "Processing song: 550/1441\n",
      "Processing song: 600/1441\n",
      "Processing song: 650/1441\n",
      "Processing song: 700/1441\n",
      "Processing song: 750/1441\n",
      "Processing song: 800/1441\n",
      "Processing song: 850/1441\n",
      "Processing song: 900/1441\n",
      "Processing song: 950/1441\n",
      "Processing song: 1000/1441\n",
      "Processing song: 1050/1441\n",
      "Processing song: 1100/1441\n",
      "Processing song: 1150/1441\n",
      "Processing song: 1200/1441\n",
      "Processing song: 1250/1441\n",
      "Processing song: 1300/1441\n",
      "Processing song: 1350/1441\n",
      "Processing song: 1400/1441\n",
      "[*] Embedding Songs\n",
      "Processing embed: 0/1441\n",
      "Processing embed: 50/1441\n",
      "Processing embed: 100/1441\n",
      "Processing embed: 150/1441\n",
      "Processing embed: 200/1441\n",
      "Processing embed: 250/1441\n",
      "Processing embed: 300/1441\n",
      "Processing embed: 350/1441\n",
      "Processing embed: 400/1441\n",
      "Processing embed: 450/1441\n",
      "Processing embed: 500/1441\n",
      "Processing embed: 550/1441\n",
      "Processing embed: 600/1441\n",
      "Processing embed: 650/1441\n",
      "Processing embed: 700/1441\n",
      "Processing embed: 750/1441\n",
      "Processing embed: 800/1441\n",
      "Processing embed: 850/1441\n",
      "Processing embed: 900/1441\n",
      "Processing embed: 950/1441\n",
      "Processing embed: 1000/1441\n",
      "Processing embed: 1050/1441\n",
      "Processing embed: 1100/1441\n",
      "Processing embed: 1150/1441\n",
      "Processing embed: 1200/1441\n",
      "Processing embed: 1250/1441\n",
      "Processing embed: 1300/1441\n",
      "Processing embed: 1350/1441\n",
      "Processing embed: 1400/1441\n"
     ]
    }
   ],
   "source": [
    "import warnings\n",
    "import tensorflow as tf\n",
    "import glob\n",
    "from tqdm import tqdm\n",
    "import midi_manipulation\n",
    "import numpy as np\n",
    "from tensorflow.python.ops import control_flow_ops\n",
    "from distutils.version import LooseVersion\n",
    "from utils import *\n",
    "\n",
    "data_path = './data/BigPackMIDI_EDM/block1/'\n",
    "num_songs = 165\n",
    "seq_length = 60\n",
    "\n",
    "input_songs, target_songs = get_song_matrixes(data_path, num_songs, seq_length)\n",
    "\n",
    "# Vectorizing songs with shape (num_seqs, seq_length, 156)\n",
    "input_songs = np.array(input_songs)\n",
    "target_songs = np.array(target_songs) # TODO: Maybe remove?\n",
    "\n",
    "# Finding and saving all the tokens in the songs\n",
    "# TODO: Later change this generating all the possible 156*156 tokens\n",
    "tokens = get_tokens(input_songs)\n",
    "num_encoder_tokens = np.array(tokens).shape[0]\n",
    "num_decoder_tokens = np.array(tokens).shape[0]\n",
    "\n",
    "\n",
    "print('[*] Embedding Songs')\n",
    "# Tokenizings the songs from shape (seq_length, 156) to (seq_length, num_encoder_tokens)\n",
    "embeded_input_songs = get_embeded_songs(input_songs, tokens, num_encoder_tokens)\n",
    "embeded_target_songs = embeded_input_songs"
   ]
  },
  {
   "cell_type": "code",
   "execution_count": null,
   "metadata": {
    "collapsed": true
   },
   "outputs": [],
   "source": []
  },
  {
   "cell_type": "code",
   "execution_count": 2,
   "metadata": {},
   "outputs": [
    {
     "name": "stdout",
     "output_type": "stream",
     "text": [
      "(60, 9483)\n",
      "(60, 156)\n",
      "Number of samples: 1441\n",
      "Number of unique input tokens: 9483\n",
      "Number of unique output tokens: 9483\n",
      "Max sequence length for inputs: 60\n",
      "Max sequence length for outputs: 60\n",
      "(1441, 60, 9483) (1441, 60, 9483)\n",
      "\n",
      "Encoder input data shape: (1441, 60, 9483)\n",
      "Decoder input data shape: (1441, 60, 9483)\n",
      "Decoder target data shape: (1441, 60, 9483)\n",
      "\n"
     ]
    }
   ],
   "source": [
    "print(np.array(embeded_input_songs[0]).shape)\n",
    "print(np.array(embed_song_to_song(embeded_input_songs[0], tokens)).shape)\n",
    "\n",
    "# Finding the longest song in the dataset\n",
    "max_encoder_seq_length = max([len(song) for song in embeded_input_songs])\n",
    "max_decoder_seq_length = max([len(song) for song in embeded_target_songs])\n",
    "\n",
    "# Data report\n",
    "print('Number of samples:', len(embeded_input_songs))\n",
    "print('Number of unique input tokens:', num_encoder_tokens)\n",
    "print('Number of unique output tokens:', num_decoder_tokens)\n",
    "print('Max sequence length for inputs:', max_encoder_seq_length)\n",
    "print('Max sequence length for outputs:', max_decoder_seq_length)\n",
    "\n",
    "\n",
    "# Get input data in shape (num_sample, max_seq_length, num_tokens)\n",
    "encoder_input_data, decoder_input_data, decoder_target_data = get_input_data(\n",
    "                                                                        embeded_input_songs, \n",
    "                                                                        embeded_target_songs,\n",
    "                                                                        max_encoder_seq_length, \n",
    "                                                                        num_encoder_tokens, \n",
    "                                                                        max_decoder_seq_length, \n",
    "                                                                        num_decoder_tokens)"
   ]
  },
  {
   "cell_type": "code",
   "execution_count": null,
   "metadata": {
    "collapsed": true
   },
   "outputs": [],
   "source": []
  },
  {
   "cell_type": "code",
   "execution_count": 3,
   "metadata": {},
   "outputs": [
    {
     "name": "stderr",
     "output_type": "stream",
     "text": [
      "Using TensorFlow backend.\n"
     ]
    },
    {
     "name": "stdout",
     "output_type": "stream",
     "text": [
      "\n",
      "__________________________________________________________________________________________________\n",
      "Layer (type)                    Output Shape         Param #     Connected to                     \n",
      "==================================================================================================\n",
      "input_1 (InputLayer)            (None, None, 9483)   0                                            \n",
      "__________________________________________________________________________________________________\n",
      "input_2 (InputLayer)            (None, None, 9483)   0                                            \n",
      "__________________________________________________________________________________________________\n",
      "lstm_1 (LSTM)                   [(None, None, 1024), 43040768    input_1[0][0]                    \n",
      "__________________________________________________________________________________________________\n",
      "lstm_2 (LSTM)                   [(None, None, 1024), 43040768    input_2[0][0]                    \n",
      "                                                                 lstm_1[0][1]                     \n",
      "                                                                 lstm_1[0][2]                     \n",
      "__________________________________________________________________________________________________\n",
      "dense_1 (Dense)                 (None, None, 9483)   9720075     lstm_2[0][0]                     \n",
      "==================================================================================================\n",
      "Total params: 95,801,611\n",
      "Trainable params: 95,801,611\n",
      "Non-trainable params: 0\n",
      "__________________________________________________________________________________________________\n",
      "None\n",
      "\n"
     ]
    }
   ],
   "source": [
    "from keras.models import Model\n",
    "from keras.layers import Input, LSTM, Dense\n",
    "\n",
    "# Hyperparameters\n",
    "batch_size  =   32       # Batch size for training.\n",
    "epochs      =   70       # Number of epochs to train for.\n",
    "latent_dim  =   1024     # Latent dimensionality of the encoding space.\n",
    "training = False\n",
    "# TODO: Add all the other hyperparameters\n",
    "#num_samples =   10000   # Number of samples to train on.\n",
    "\n",
    "\n",
    "# Define an input sequence and process it.\n",
    "encoder_inputs = Input(shape=(None, num_encoder_tokens))\n",
    "encoder = LSTM(latent_dim, return_sequences=True, return_state=True)\n",
    "encoder_outputs, state_h, state_c = encoder(encoder_inputs)\n",
    "# We discard `encoder_outputs` and only keep the states.\n",
    "encoder_states = [state_h, state_c]\n",
    "\n",
    "\n",
    "# Set up the decoder, using `encoder_states` as initial state.\n",
    "decoder_inputs = Input(shape=(None, num_decoder_tokens))\n",
    "# We set up our decoder to return full output sequences,\n",
    "# and to return internal states as well. We don't use the\n",
    "# return states in the training model, but we will use them in inference.\n",
    "decoder_lstm = LSTM(latent_dim, return_sequences=True, return_state=True)\n",
    "decoder_outputs, _, _ = decoder_lstm(decoder_inputs,\n",
    "                                     initial_state=encoder_states)\n",
    "decoder_dense = Dense(num_decoder_tokens, activation='softmax')\n",
    "decoder_outputs = decoder_dense(decoder_outputs)\n",
    "\n",
    "\n",
    "\n",
    "# Define the model that will turn\n",
    "# `encoder_input_data` & `decoder_input_data` into `decoder_target_data`\n",
    "model = Model([encoder_inputs, decoder_inputs], decoder_outputs)\n",
    "print()\n",
    "print(model.summary())\n",
    "print()"
   ]
  },
  {
   "cell_type": "code",
   "execution_count": 4,
   "metadata": {},
   "outputs": [
    {
     "name": "stdout",
     "output_type": "stream",
     "text": [
      "[*] Starting Training\n",
      "Epoch 1/70\n",
      "1441/1441 [==============================] - ETA: 6:04 - loss: 9.309 - ETA: 3:28 - loss: 9.290 - ETA: 2:37 - loss: 9.255 - ETA: 2:09 - loss: 8.783 - ETA: 2:01 - loss: 8.446 - ETA: 1:48 - loss: 8.012 - ETA: 1:38 - loss: 7.659 - ETA: 1:32 - loss: 7.555 - ETA: 1:26 - loss: 7.375 - ETA: 1:20 - loss: 7.223 - ETA: 1:18 - loss: 7.146 - ETA: 1:14 - loss: 7.129 - ETA: 1:09 - loss: 7.118 - ETA: 1:06 - loss: 7.048 - ETA: 1:04 - loss: 7.075 - ETA: 1:03 - loss: 7.076 - ETA: 1:00 - loss: 6.976 - ETA: 57s - loss: 6.938 - ETA: 55s - loss: 6.91 - ETA: 52s - loss: 6.90 - ETA: 49s - loss: 6.88 - ETA: 47s - loss: 6.84 - ETA: 44s - loss: 6.87 - ETA: 41s - loss: 6.84 - ETA: 39s - loss: 6.83 - ETA: 37s - loss: 6.83 - ETA: 34s - loss: 6.80 - ETA: 32s - loss: 6.77 - ETA: 30s - loss: 6.81 - ETA: 28s - loss: 6.75 - ETA: 26s - loss: 6.71 - ETA: 24s - loss: 6.72 - ETA: 22s - loss: 6.67 - ETA: 20s - loss: 6.65 - ETA: 18s - loss: 6.64 - ETA: 16s - loss: 6.66 - ETA: 14s - loss: 6.65 - ETA: 12s - loss: 6.65 - ETA: 10s - loss: 6.64 - ETA: 9s - loss: 6.6421 - ETA: 7s - loss: 6.686 - ETA: 5s - loss: 6.695 - ETA: 3s - loss: 6.675 - ETA: 1s - loss: 6.660 - ETA: 0s - loss: 6.650 - 80s 56ms/step - loss: 6.6520\n",
      "Epoch 2/70\n",
      "1441/1441 [==============================] - ETA: 1:00 - loss: 5.329 - ETA: 59s - loss: 5.550 - ETA: 58s - loss: 5.94 - ETA: 57s - loss: 5.94 - ETA: 55s - loss: 5.77 - ETA: 54s - loss: 5.74 - ETA: 53s - loss: 5.75 - ETA: 51s - loss: 5.62 - ETA: 50s - loss: 5.79 - ETA: 48s - loss: 5.84 - ETA: 47s - loss: 5.87 - ETA: 46s - loss: 5.87 - ETA: 44s - loss: 5.92 - ETA: 43s - loss: 5.87 - ETA: 42s - loss: 5.91 - ETA: 41s - loss: 5.94 - ETA: 40s - loss: 5.91 - ETA: 39s - loss: 5.90 - ETA: 37s - loss: 5.88 - ETA: 36s - loss: 5.92 - ETA: 34s - loss: 5.91 - ETA: 33s - loss: 5.90 - ETA: 31s - loss: 5.91 - ETA: 30s - loss: 5.96 - ETA: 29s - loss: 5.93 - ETA: 27s - loss: 5.93 - ETA: 26s - loss: 5.97 - ETA: 24s - loss: 6.00 - ETA: 23s - loss: 5.99 - ETA: 21s - loss: 5.95 - ETA: 20s - loss: 5.97 - ETA: 18s - loss: 5.95 - ETA: 17s - loss: 5.95 - ETA: 15s - loss: 5.94 - ETA: 14s - loss: 5.95 - ETA: 12s - loss: 5.94 - ETA: 11s - loss: 5.95 - ETA: 10s - loss: 5.98 - ETA: 8s - loss: 5.9848 - ETA: 7s - loss: 5.989 - ETA: 5s - loss: 5.972 - ETA: 4s - loss: 6.000 - ETA: 2s - loss: 5.999 - ETA: 1s - loss: 5.991 - ETA: 0s - loss: 6.017 - 74s 51ms/step - loss: 6.0195\n",
      "Epoch 3/70\n",
      "1441/1441 [==============================] - ETA: 4:22 - loss: 4.894 - ETA: 4:15 - loss: 4.885 - ETA: 4:07 - loss: 5.186 - ETA: 4:05 - loss: 5.317 - ETA: 3:55 - loss: 5.517 - ETA: 3:52 - loss: 5.602 - ETA: 3:48 - loss: 5.641 - ETA: 3:44 - loss: 5.692 - ETA: 3:42 - loss: 5.707 - ETA: 3:39 - loss: 5.859 - ETA: 3:33 - loss: 5.873 - ETA: 3:27 - loss: 5.871 - ETA: 3:24 - loss: 5.847 - ETA: 3:17 - loss: 5.885 - ETA: 3:12 - loss: 5.920 - ETA: 3:06 - loss: 5.955 - ETA: 3:00 - loss: 5.921 - ETA: 2:54 - loss: 5.916 - ETA: 2:48 - loss: 5.903 - ETA: 2:42 - loss: 5.892 - ETA: 2:36 - loss: 5.935 - ETA: 2:29 - loss: 5.911 - ETA: 2:23 - loss: 5.917 - ETA: 2:17 - loss: 5.857 - ETA: 2:10 - loss: 5.824 - ETA: 2:02 - loss: 5.820 - ETA: 1:55 - loss: 5.781 - ETA: 1:49 - loss: 5.800 - ETA: 1:43 - loss: 5.806 - ETA: 1:37 - loss: 5.826 - ETA: 1:30 - loss: 5.827 - ETA: 1:23 - loss: 5.824 - ETA: 1:16 - loss: 5.853 - ETA: 1:10 - loss: 5.844 - ETA: 1:04 - loss: 5.840 - ETA: 57s - loss: 5.836 - ETA: 50s - loss: 5.84 - ETA: 44s - loss: 5.83 - ETA: 38s - loss: 5.83 - ETA: 32s - loss: 5.83 - ETA: 25s - loss: 5.83 - ETA: 19s - loss: 5.84 - ETA: 12s - loss: 5.83 - ETA: 6s - loss: 5.8035 - ETA: 0s - loss: 5.815 - 290s 201ms/step - loss: 5.8174\n",
      "Epoch 4/70\n",
      "1441/1441 [==============================] - ETA: 4:39 - loss: 6.643 - ETA: 4:49 - loss: 6.334 - ETA: 4:49 - loss: 5.762 - ETA: 4:10 - loss: 5.647 - ETA: 4:04 - loss: 5.650 - ETA: 3:58 - loss: 5.411 - ETA: 3:54 - loss: 5.458 - ETA: 3:49 - loss: 5.341 - ETA: 3:44 - loss: 5.375 - ETA: 3:29 - loss: 5.494 - ETA: 3:25 - loss: 5.498 - ETA: 3:21 - loss: 5.560 - ETA: 3:15 - loss: 5.499 - ETA: 3:09 - loss: 5.488 - ETA: 3:04 - loss: 5.393 - ETA: 2:58 - loss: 5.348 - ETA: 2:52 - loss: 5.422 - ETA: 2:47 - loss: 5.395 - ETA: 2:42 - loss: 5.418 - ETA: 2:37 - loss: 5.463 - ETA: 2:30 - loss: 5.464 - ETA: 2:24 - loss: 5.478 - ETA: 2:19 - loss: 5.529 - ETA: 2:13 - loss: 5.517 - ETA: 2:08 - loss: 5.554 - ETA: 1:59 - loss: 5.547 - ETA: 1:53 - loss: 5.533 - ETA: 1:48 - loss: 5.575 - ETA: 1:41 - loss: 5.579 - ETA: 1:35 - loss: 5.561 - ETA: 1:29 - loss: 5.502 - ETA: 1:23 - loss: 5.508 - ETA: 1:17 - loss: 5.506 - ETA: 1:10 - loss: 5.504 - ETA: 1:04 - loss: 5.557 - ETA: 58s - loss: 5.579 - ETA: 52s - loss: 5.56 - ETA: 45s - loss: 5.56 - ETA: 39s - loss: 5.56 - ETA: 33s - loss: 5.56 - ETA: 26s - loss: 5.58 - ETA: 19s - loss: 5.60 - ETA: 13s - loss: 5.57 - ETA: 6s - loss: 5.5618 - ETA: 0s - loss: 5.580 - 297s 206ms/step - loss: 5.5770\n",
      "Epoch 5/70\n",
      "1441/1441 [==============================] - ETA: 5:16 - loss: 4.566 - ETA: 4:52 - loss: 4.518 - ETA: 4:58 - loss: 4.824 - ETA: 4:53 - loss: 5.328 - ETA: 4:43 - loss: 5.240 - ETA: 4:37 - loss: 5.156 - ETA: 4:28 - loss: 5.213 - ETA: 4:20 - loss: 5.165 - ETA: 4:11 - loss: 5.126 - ETA: 4:05 - loss: 5.244 - ETA: 3:58 - loss: 5.267 - ETA: 3:51 - loss: 5.288 - ETA: 3:44 - loss: 5.282 - ETA: 3:36 - loss: 5.296 - ETA: 3:29 - loss: 5.300 - ETA: 3:22 - loss: 5.311 - ETA: 3:15 - loss: 5.293 - ETA: 3:02 - loss: 5.302 - ETA: 2:56 - loss: 5.305 - ETA: 2:50 - loss: 5.317 - ETA: 2:43 - loss: 5.284 - ETA: 2:35 - loss: 5.261 - ETA: 2:28 - loss: 5.274 - ETA: 2:21 - loss: 5.297 - ETA: 2:15 - loss: 5.316 - ETA: 2:09 - loss: 5.292 - ETA: 2:02 - loss: 5.295 - ETA: 1:56 - loss: 5.300 - ETA: 1:49 - loss: 5.299 - ETA: 1:41 - loss: 5.245 - ETA: 1:35 - loss: 5.255 - ETA: 1:28 - loss: 5.272 - ETA: 1:21 - loss: 5.253 - ETA: 1:14 - loss: 5.274 - ETA: 1:07 - loss: 5.276 - ETA: 1:00 - loss: 5.264 - ETA: 53s - loss: 5.268 - ETA: 46s - loss: 5.24 - ETA: 39s - loss: 5.24 - ETA: 33s - loss: 5.26 - ETA: 26s - loss: 5.26 - ETA: 20s - loss: 5.26 - ETA: 13s - loss: 5.25 - ETA: 6s - loss: 5.2900 - ETA: 0s - loss: 5.284 - 301s 209ms/step - loss: 5.2811\n",
      "Epoch 6/70\n",
      "1441/1441 [==============================] - ETA: 4:19 - loss: 4.594 - ETA: 4:49 - loss: 4.700 - ETA: 4:47 - loss: 4.718 - ETA: 4:38 - loss: 4.655 - ETA: 4:32 - loss: 4.798 - ETA: 4:27 - loss: 4.746 - ETA: 4:03 - loss: 4.894 - ETA: 4:00 - loss: 4.915 - ETA: 3:51 - loss: 4.949 - ETA: 3:46 - loss: 5.040 - ETA: 3:41 - loss: 5.109 - ETA: 3:25 - loss: 5.111 - ETA: 3:19 - loss: 5.087 - ETA: 3:15 - loss: 5.164 - ETA: 3:11 - loss: 5.263 - ETA: 3:04 - loss: 5.229 - ETA: 2:59 - loss: 5.235 - ETA: 2:48 - loss: 5.253 - ETA: 2:42 - loss: 5.271 - ETA: 2:37 - loss: 5.268 - ETA: 2:31 - loss: 5.307 - ETA: 2:25 - loss: 5.262 - ETA: 2:20 - loss: 5.206 - ETA: 2:13 - loss: 5.207 - ETA: 2:07 - loss: 5.186 - ETA: 2:02 - loss: 5.178 - ETA: 1:53 - loss: 5.183 - ETA: 1:47 - loss: 5.199 - ETA: 1:41 - loss: 5.169 - ETA: 1:35 - loss: 5.195 - ETA: 1:29 - loss: 5.206 - ETA: 1:23 - loss: 5.175 - ETA: 1:15 - loss: 5.178 - ETA: 1:09 - loss: 5.183 - ETA: 1:03 - loss: 5.195 - ETA: 57s - loss: 5.178 - ETA: 51s - loss: 5.15 - ETA: 45s - loss: 5.14 - ETA: 38s - loss: 5.12 - ETA: 32s - loss: 5.11 - ETA: 25s - loss: 5.10 - ETA: 19s - loss: 5.11 - ETA: 12s - loss: 5.11 - ETA: 6s - loss: 5.1132 - ETA: 0s - loss: 5.108 - 289s 200ms/step - loss: 5.1052\n",
      "Epoch 7/70\n"
     ]
    },
    {
     "name": "stdout",
     "output_type": "stream",
     "text": [
      "1441/1441 [==============================] - ETA: 5:13 - loss: 4.993 - ETA: 5:10 - loss: 5.259 - ETA: 4:52 - loss: 5.141 - ETA: 4:41 - loss: 4.877 - ETA: 4:07 - loss: 4.776 - ETA: 4:10 - loss: 4.861 - ETA: 4:06 - loss: 4.823 - ETA: 4:04 - loss: 4.777 - ETA: 3:58 - loss: 4.686 - ETA: 3:55 - loss: 4.691 - ETA: 3:50 - loss: 4.739 - ETA: 3:45 - loss: 4.752 - ETA: 3:30 - loss: 4.793 - ETA: 3:25 - loss: 4.778 - ETA: 3:12 - loss: 4.799 - ETA: 3:07 - loss: 4.809 - ETA: 2:57 - loss: 4.760 - ETA: 2:52 - loss: 4.812 - ETA: 2:47 - loss: 4.776 - ETA: 2:41 - loss: 4.796 - ETA: 2:34 - loss: 4.782 - ETA: 2:26 - loss: 4.738 - ETA: 2:18 - loss: 4.756 - ETA: 2:10 - loss: 4.748 - ETA: 2:02 - loss: 4.758 - ETA: 1:56 - loss: 4.740 - ETA: 1:50 - loss: 4.755 - ETA: 1:43 - loss: 4.772 - ETA: 1:37 - loss: 4.763 - ETA: 1:31 - loss: 4.805 - ETA: 1:25 - loss: 4.855 - ETA: 1:18 - loss: 4.863 - ETA: 1:12 - loss: 4.865 - ETA: 1:06 - loss: 4.853 - ETA: 1:00 - loss: 4.877 - ETA: 54s - loss: 4.875 - ETA: 48s - loss: 4.88 - ETA: 42s - loss: 4.88 - ETA: 36s - loss: 4.87 - ETA: 30s - loss: 4.88 - ETA: 24s - loss: 4.87 - ETA: 18s - loss: 4.89 - ETA: 12s - loss: 4.89 - ETA: 6s - loss: 4.8907 - ETA: 0s - loss: 4.866 - 280s 194ms/step - loss: 4.8646\n",
      "Epoch 8/70\n",
      "1441/1441 [==============================] - ETA: 4:45 - loss: 4.724 - ETA: 4:50 - loss: 4.783 - ETA: 4:40 - loss: 4.716 - ETA: 4:37 - loss: 4.804 - ETA: 4:34 - loss: 4.944 - ETA: 4:27 - loss: 4.898 - ETA: 4:19 - loss: 4.832 - ETA: 4:12 - loss: 4.803 - ETA: 4:01 - loss: 4.720 - ETA: 3:53 - loss: 4.761 - ETA: 3:46 - loss: 4.743 - ETA: 3:30 - loss: 4.799 - ETA: 3:24 - loss: 4.771 - ETA: 3:16 - loss: 4.764 - ETA: 3:11 - loss: 4.692 - ETA: 3:06 - loss: 4.725 - ETA: 3:01 - loss: 4.737 - ETA: 2:55 - loss: 4.722 - ETA: 2:48 - loss: 4.708 - ETA: 2:42 - loss: 4.718 - ETA: 2:36 - loss: 4.693 - ETA: 2:30 - loss: 4.732 - ETA: 2:23 - loss: 4.730 - ETA: 2:16 - loss: 4.701 - ETA: 2:08 - loss: 4.722 - ETA: 2:02 - loss: 4.683 - ETA: 1:55 - loss: 4.675 - ETA: 1:47 - loss: 4.629 - ETA: 1:40 - loss: 4.644 - ETA: 1:34 - loss: 4.663 - ETA: 1:28 - loss: 4.649 - ETA: 1:22 - loss: 4.636 - ETA: 1:16 - loss: 4.649 - ETA: 1:10 - loss: 4.604 - ETA: 1:04 - loss: 4.620 - ETA: 57s - loss: 4.606 - ETA: 51s - loss: 4.61 - ETA: 45s - loss: 4.62 - ETA: 38s - loss: 4.64 - ETA: 31s - loss: 4.63 - ETA: 25s - loss: 4.63 - ETA: 19s - loss: 4.63 - ETA: 12s - loss: 4.62 - ETA: 6s - loss: 4.5983 - ETA: 0s - loss: 4.617 - 292s 203ms/step - loss: 4.6180\n",
      "Epoch 9/70\n",
      "1441/1441 [==============================] - ETA: 4:28 - loss: 4.414 - ETA: 4:27 - loss: 4.049 - ETA: 3:52 - loss: 4.068 - ETA: 3:57 - loss: 4.129 - ETA: 4:03 - loss: 4.258 - ETA: 4:04 - loss: 4.267 - ETA: 4:01 - loss: 4.288 - ETA: 3:57 - loss: 4.237 - ETA: 3:55 - loss: 4.298 - ETA: 3:46 - loss: 4.294 - ETA: 3:40 - loss: 4.189 - ETA: 3:34 - loss: 4.220 - ETA: 3:20 - loss: 4.259 - ETA: 3:14 - loss: 4.250 - ETA: 3:08 - loss: 4.257 - ETA: 2:59 - loss: 4.217 - ETA: 2:54 - loss: 4.292 - ETA: 2:49 - loss: 4.335 - ETA: 2:42 - loss: 4.332 - ETA: 2:37 - loss: 4.340 - ETA: 2:31 - loss: 4.328 - ETA: 2:23 - loss: 4.354 - ETA: 2:16 - loss: 4.370 - ETA: 2:10 - loss: 4.382 - ETA: 2:04 - loss: 4.360 - ETA: 1:56 - loss: 4.372 - ETA: 1:51 - loss: 4.378 - ETA: 1:45 - loss: 4.401 - ETA: 1:37 - loss: 4.388 - ETA: 1:31 - loss: 4.427 - ETA: 1:25 - loss: 4.376 - ETA: 1:18 - loss: 4.345 - ETA: 1:12 - loss: 4.349 - ETA: 1:06 - loss: 4.340 - ETA: 1:00 - loss: 4.360 - ETA: 54s - loss: 4.355 - ETA: 48s - loss: 4.36 - ETA: 42s - loss: 4.37 - ETA: 36s - loss: 4.37 - ETA: 30s - loss: 4.36 - ETA: 24s - loss: 4.36 - ETA: 18s - loss: 4.36 - ETA: 12s - loss: 4.35 - ETA: 6s - loss: 4.3746 - ETA: 0s - loss: 4.370 - 279s 193ms/step - loss: 4.3736\n",
      "Epoch 10/70\n",
      "1441/1441 [==============================] - ETA: 4:48 - loss: 4.755 - ETA: 4:38 - loss: 4.563 - ETA: 4:25 - loss: 4.638 - ETA: 3:49 - loss: 4.609 - ETA: 3:48 - loss: 4.636 - ETA: 3:38 - loss: 4.460 - ETA: 3:38 - loss: 4.339 - ETA: 3:35 - loss: 4.243 - ETA: 3:33 - loss: 4.159 - ETA: 3:30 - loss: 4.176 - ETA: 3:24 - loss: 4.184 - ETA: 3:22 - loss: 4.122 - ETA: 3:09 - loss: 4.087 - ETA: 3:05 - loss: 4.180 - ETA: 2:53 - loss: 4.198 - ETA: 2:50 - loss: 4.123 - ETA: 2:44 - loss: 4.071 - ETA: 2:35 - loss: 4.063 - ETA: 2:29 - loss: 4.043 - ETA: 2:23 - loss: 4.036 - ETA: 2:18 - loss: 4.040 - ETA: 2:14 - loss: 4.040 - ETA: 2:09 - loss: 4.052 - ETA: 2:04 - loss: 4.069 - ETA: 1:57 - loss: 4.057 - ETA: 1:52 - loss: 4.054 - ETA: 1:46 - loss: 4.032 - ETA: 1:41 - loss: 4.013 - ETA: 1:36 - loss: 4.028 - ETA: 1:30 - loss: 4.023 - ETA: 1:24 - loss: 4.029 - ETA: 1:19 - loss: 4.021 - ETA: 1:13 - loss: 4.020 - ETA: 1:07 - loss: 3.999 - ETA: 1:01 - loss: 4.008 - ETA: 54s - loss: 4.009 - ETA: 48s - loss: 3.99 - ETA: 42s - loss: 3.99 - ETA: 36s - loss: 4.00 - ETA: 30s - loss: 3.99 - ETA: 24s - loss: 3.98 - ETA: 18s - loss: 3.97 - ETA: 12s - loss: 4.00 - ETA: 6s - loss: 4.0054 - ETA: 0s - loss: 4.003 - 276s 191ms/step - loss: 4.0047\n",
      "Epoch 11/70\n",
      "1441/1441 [==============================] - ETA: 5:20 - loss: 3.408 - ETA: 5:02 - loss: 3.724 - ETA: 4:45 - loss: 3.824 - ETA: 4:17 - loss: 3.695 - ETA: 4:14 - loss: 3.783 - ETA: 4:11 - loss: 3.798 - ETA: 4:01 - loss: 3.798 - ETA: 3:55 - loss: 3.819 - ETA: 3:53 - loss: 3.891 - ETA: 3:39 - loss: 3.876 - ETA: 3:32 - loss: 3.870 - ETA: 3:28 - loss: 3.800 - ETA: 3:23 - loss: 3.750 - ETA: 3:16 - loss: 3.766 - ETA: 3:10 - loss: 3.715 - ETA: 3:05 - loss: 3.747 - ETA: 3:00 - loss: 3.740 - ETA: 2:54 - loss: 3.758 - ETA: 2:47 - loss: 3.786 - ETA: 2:39 - loss: 3.720 - ETA: 2:32 - loss: 3.728 - ETA: 2:24 - loss: 3.691 - ETA: 2:19 - loss: 3.681 - ETA: 2:13 - loss: 3.658 - ETA: 2:07 - loss: 3.673 - ETA: 2:01 - loss: 3.696 - ETA: 1:55 - loss: 3.698 - ETA: 1:49 - loss: 3.681 - ETA: 1:42 - loss: 3.710 - ETA: 1:36 - loss: 3.685 - ETA: 1:30 - loss: 3.696 - ETA: 1:23 - loss: 3.692 - ETA: 1:16 - loss: 3.700 - ETA: 1:09 - loss: 3.710 - ETA: 1:03 - loss: 3.696 - ETA: 56s - loss: 3.691 - ETA: 50s - loss: 3.68 - ETA: 44s - loss: 3.69 - ETA: 37s - loss: 3.70 - ETA: 31s - loss: 3.71 - ETA: 25s - loss: 3.73 - ETA: 19s - loss: 3.73 - ETA: 12s - loss: 3.74 - ETA: 6s - loss: 3.7316 - ETA: 0s - loss: 3.750 - 290s 201ms/step - loss: 3.7537\n",
      "Epoch 12/70\n",
      "1441/1441 [==============================] - ETA: 5:09 - loss: 2.851 - ETA: 4:46 - loss: 2.885 - ETA: 4:19 - loss: 3.163 - ETA: 4:15 - loss: 3.158 - ETA: 4:14 - loss: 3.136 - ETA: 4:08 - loss: 3.225 - ETA: 4:02 - loss: 3.343 - ETA: 3:59 - loss: 3.382 - ETA: 3:46 - loss: 3.437 - ETA: 3:40 - loss: 3.558 - ETA: 3:36 - loss: 3.539 - ETA: 3:29 - loss: 3.531 - ETA: 3:23 - loss: 3.593 - ETA: 3:15 - loss: 3.574 - ETA: 3:09 - loss: 3.540 - ETA: 3:03 - loss: 3.493 - ETA: 2:52 - loss: 3.438 - ETA: 2:47 - loss: 3.413 - ETA: 2:41 - loss: 3.435 - ETA: 2:35 - loss: 3.424 - ETA: 2:30 - loss: 3.397 - ETA: 2:24 - loss: 3.377 - ETA: 2:18 - loss: 3.391 - ETA: 2:12 - loss: 3.412 - ETA: 2:06 - loss: 3.468 - ETA: 2:00 - loss: 3.476 - ETA: 1:54 - loss: 3.477 - ETA: 1:48 - loss: 3.492 - ETA: 1:41 - loss: 3.506 - ETA: 1:34 - loss: 3.491 - ETA: 1:28 - loss: 3.473 - ETA: 1:22 - loss: 3.473 - ETA: 1:15 - loss: 3.476 - ETA: 1:09 - loss: 3.510 - ETA: 1:03 - loss: 3.487 - ETA: 57s - loss: 3.483 - ETA: 50s - loss: 3.50 - ETA: 44s - loss: 3.49 - ETA: 38s - loss: 3.50 - ETA: 31s - loss: 3.51 - ETA: 25s - loss: 3.51 - ETA: 18s - loss: 3.49 - ETA: 12s - loss: 3.48 - ETA: 6s - loss: 3.4891 - ETA: 0s - loss: 3.480 - 284s 197ms/step - loss: 3.4779\n",
      "Epoch 13/70\n"
     ]
    },
    {
     "name": "stdout",
     "output_type": "stream",
     "text": [
      "1441/1441 [==============================] - ETA: 5:04 - loss: 3.379 - ETA: 5:05 - loss: 3.267 - ETA: 4:09 - loss: 3.109 - ETA: 4:05 - loss: 3.208 - ETA: 4:04 - loss: 3.121 - ETA: 3:37 - loss: 3.058 - ETA: 3:35 - loss: 3.142 - ETA: 3:37 - loss: 3.298 - ETA: 3:37 - loss: 3.309 - ETA: 3:34 - loss: 3.235 - ETA: 3:30 - loss: 3.158 - ETA: 3:26 - loss: 3.160 - ETA: 3:19 - loss: 3.136 - ETA: 3:12 - loss: 3.174 - ETA: 3:06 - loss: 3.164 - ETA: 3:01 - loss: 3.071 - ETA: 2:54 - loss: 3.079 - ETA: 2:49 - loss: 3.087 - ETA: 2:40 - loss: 3.110 - ETA: 2:34 - loss: 3.103 - ETA: 2:28 - loss: 3.152 - ETA: 2:20 - loss: 3.152 - ETA: 2:15 - loss: 3.126 - ETA: 2:10 - loss: 3.136 - ETA: 2:01 - loss: 3.126 - ETA: 1:55 - loss: 3.099 - ETA: 1:49 - loss: 3.087 - ETA: 1:44 - loss: 3.124 - ETA: 1:38 - loss: 3.083 - ETA: 1:32 - loss: 3.076 - ETA: 1:25 - loss: 3.098 - ETA: 1:19 - loss: 3.073 - ETA: 1:13 - loss: 3.073 - ETA: 1:07 - loss: 3.078 - ETA: 1:01 - loss: 3.076 - ETA: 55s - loss: 3.078 - ETA: 49s - loss: 3.07 - ETA: 43s - loss: 3.07 - ETA: 37s - loss: 3.07 - ETA: 30s - loss: 3.04 - ETA: 24s - loss: 3.05 - ETA: 18s - loss: 3.06 - ETA: 12s - loss: 3.05 - ETA: 6s - loss: 3.0403 - ETA: 0s - loss: 3.032 - 282s 196ms/step - loss: 3.0313\n",
      "Epoch 14/70\n",
      "1441/1441 [==============================] - ETA: 4:59 - loss: 3.347 - ETA: 4:53 - loss: 2.830 - ETA: 4:42 - loss: 2.771 - ETA: 4:39 - loss: 2.671 - ETA: 4:12 - loss: 2.559 - ETA: 4:08 - loss: 2.624 - ETA: 4:00 - loss: 2.530 - ETA: 3:39 - loss: 2.683 - ETA: 3:37 - loss: 2.681 - ETA: 3:33 - loss: 2.652 - ETA: 3:29 - loss: 2.674 - ETA: 3:25 - loss: 2.660 - ETA: 3:20 - loss: 2.677 - ETA: 3:16 - loss: 2.706 - ETA: 3:09 - loss: 2.700 - ETA: 3:04 - loss: 2.741 - ETA: 2:54 - loss: 2.696 - ETA: 2:48 - loss: 2.702 - ETA: 2:43 - loss: 2.700 - ETA: 2:36 - loss: 2.741 - ETA: 2:31 - loss: 2.736 - ETA: 2:25 - loss: 2.748 - ETA: 2:18 - loss: 2.773 - ETA: 2:11 - loss: 2.808 - ETA: 2:05 - loss: 2.835 - ETA: 1:59 - loss: 2.824 - ETA: 1:54 - loss: 2.810 - ETA: 1:47 - loss: 2.803 - ETA: 1:41 - loss: 2.805 - ETA: 1:35 - loss: 2.806 - ETA: 1:28 - loss: 2.809 - ETA: 1:22 - loss: 2.800 - ETA: 1:16 - loss: 2.790 - ETA: 1:10 - loss: 2.805 - ETA: 1:03 - loss: 2.789 - ETA: 57s - loss: 2.799 - ETA: 51s - loss: 2.79 - ETA: 44s - loss: 2.77 - ETA: 38s - loss: 2.77 - ETA: 32s - loss: 2.77 - ETA: 25s - loss: 2.78 - ETA: 19s - loss: 2.77 - ETA: 12s - loss: 2.74 - ETA: 6s - loss: 2.7288 - ETA: 0s - loss: 2.718 - 289s 200ms/step - loss: 2.7181\n",
      "Epoch 15/70\n",
      "1441/1441 [==============================] - ETA: 4:52 - loss: 2.041 - ETA: 4:59 - loss: 2.131 - ETA: 4:36 - loss: 2.207 - ETA: 4:31 - loss: 2.428 - ETA: 4:27 - loss: 2.302 - ETA: 4:18 - loss: 2.417 - ETA: 4:15 - loss: 2.401 - ETA: 4:08 - loss: 2.376 - ETA: 4:01 - loss: 2.420 - ETA: 3:54 - loss: 2.449 - ETA: 3:45 - loss: 2.412 - ETA: 3:38 - loss: 2.437 - ETA: 3:34 - loss: 2.425 - ETA: 3:28 - loss: 2.445 - ETA: 3:20 - loss: 2.429 - ETA: 3:15 - loss: 2.398 - ETA: 3:09 - loss: 2.422 - ETA: 3:02 - loss: 2.428 - ETA: 2:56 - loss: 2.418 - ETA: 2:50 - loss: 2.438 - ETA: 2:39 - loss: 2.423 - ETA: 2:33 - loss: 2.413 - ETA: 2:28 - loss: 2.402 - ETA: 2:21 - loss: 2.444 - ETA: 2:15 - loss: 2.423 - ETA: 2:06 - loss: 2.428 - ETA: 2:00 - loss: 2.432 - ETA: 1:53 - loss: 2.437 - ETA: 1:47 - loss: 2.421 - ETA: 1:40 - loss: 2.401 - ETA: 1:33 - loss: 2.388 - ETA: 1:26 - loss: 2.386 - ETA: 1:19 - loss: 2.376 - ETA: 1:13 - loss: 2.397 - ETA: 1:06 - loss: 2.392 - ETA: 1:00 - loss: 2.387 - ETA: 53s - loss: 2.394 - ETA: 46s - loss: 2.38 - ETA: 40s - loss: 2.37 - ETA: 33s - loss: 2.35 - ETA: 26s - loss: 2.35 - ETA: 20s - loss: 2.36 - ETA: 13s - loss: 2.35 - ETA: 6s - loss: 2.3540 - ETA: 0s - loss: 2.361 - 305s 211ms/step - loss: 2.3631\n",
      "Epoch 16/70\n",
      "1441/1441 [==============================] - ETA: 5:28 - loss: 1.624 - ETA: 5:18 - loss: 2.196 - ETA: 5:08 - loss: 2.267 - ETA: 5:01 - loss: 2.343 - ETA: 4:54 - loss: 2.363 - ETA: 4:46 - loss: 2.292 - ETA: 4:16 - loss: 2.253 - ETA: 4:09 - loss: 2.227 - ETA: 4:05 - loss: 2.270 - ETA: 3:48 - loss: 2.240 - ETA: 3:42 - loss: 2.268 - ETA: 3:32 - loss: 2.239 - ETA: 3:27 - loss: 2.238 - ETA: 3:22 - loss: 2.231 - ETA: 3:15 - loss: 2.215 - ETA: 3:09 - loss: 2.216 - ETA: 3:04 - loss: 2.193 - ETA: 2:58 - loss: 2.202 - ETA: 2:51 - loss: 2.183 - ETA: 2:45 - loss: 2.186 - ETA: 2:40 - loss: 2.171 - ETA: 2:34 - loss: 2.176 - ETA: 2:28 - loss: 2.186 - ETA: 2:19 - loss: 2.181 - ETA: 2:12 - loss: 2.156 - ETA: 2:04 - loss: 2.137 - ETA: 1:58 - loss: 2.141 - ETA: 1:52 - loss: 2.140 - ETA: 1:45 - loss: 2.131 - ETA: 1:39 - loss: 2.126 - ETA: 1:32 - loss: 2.133 - ETA: 1:26 - loss: 2.138 - ETA: 1:20 - loss: 2.138 - ETA: 1:13 - loss: 2.135 - ETA: 1:06 - loss: 2.145 - ETA: 59s - loss: 2.140 - ETA: 53s - loss: 2.14 - ETA: 46s - loss: 2.13 - ETA: 39s - loss: 2.13 - ETA: 33s - loss: 2.13 - ETA: 26s - loss: 2.13 - ETA: 19s - loss: 2.14 - ETA: 13s - loss: 2.15 - ETA: 6s - loss: 2.1437 - ETA: 0s - loss: 2.145 - 303s 211ms/step - loss: 2.1477\n",
      "Epoch 17/70\n",
      "1441/1441 [==============================] - ETA: 5:29 - loss: 1.844 - ETA: 4:10 - loss: 1.898 - ETA: 4:29 - loss: 1.842 - ETA: 4:31 - loss: 1.810 - ETA: 4:26 - loss: 1.787 - ETA: 3:54 - loss: 1.854 - ETA: 3:56 - loss: 1.928 - ETA: 3:56 - loss: 1.941 - ETA: 3:52 - loss: 1.990 - ETA: 3:47 - loss: 2.017 - ETA: 3:43 - loss: 2.054 - ETA: 3:39 - loss: 2.133 - ETA: 3:27 - loss: 2.085 - ETA: 3:22 - loss: 2.058 - ETA: 3:17 - loss: 2.029 - ETA: 3:12 - loss: 2.011 - ETA: 3:02 - loss: 2.001 - ETA: 2:57 - loss: 2.026 - ETA: 2:51 - loss: 2.018 - ETA: 2:44 - loss: 2.018 - ETA: 2:39 - loss: 2.011 - ETA: 2:32 - loss: 2.029 - ETA: 2:26 - loss: 2.007 - ETA: 2:20 - loss: 2.022 - ETA: 2:14 - loss: 2.034 - ETA: 2:08 - loss: 2.009 - ETA: 2:01 - loss: 2.017 - ETA: 1:55 - loss: 2.021 - ETA: 1:46 - loss: 2.032 - ETA: 1:40 - loss: 2.013 - ETA: 1:33 - loss: 1.998 - ETA: 1:26 - loss: 2.017 - ETA: 1:20 - loss: 2.023 - ETA: 1:13 - loss: 2.018 - ETA: 1:07 - loss: 2.026 - ETA: 1:00 - loss: 2.009 - ETA: 54s - loss: 2.008 - ETA: 47s - loss: 2.01 - ETA: 40s - loss: 1.99 - ETA: 34s - loss: 1.99 - ETA: 27s - loss: 1.97 - ETA: 20s - loss: 1.97 - ETA: 13s - loss: 1.97 - ETA: 7s - loss: 1.9553 - ETA: 0s - loss: 1.957 - 313s 217ms/step - loss: 1.9559\n",
      "Epoch 18/70\n",
      "1441/1441 [==============================] - ETA: 5:38 - loss: 1.256 - ETA: 5:32 - loss: 1.414 - ETA: 5:15 - loss: 1.618 - ETA: 5:02 - loss: 1.538 - ETA: 4:54 - loss: 1.515 - ETA: 4:49 - loss: 1.548 - ETA: 4:40 - loss: 1.536 - ETA: 4:34 - loss: 1.598 - ETA: 4:24 - loss: 1.561 - ETA: 4:02 - loss: 1.563 - ETA: 3:53 - loss: 1.561 - ETA: 3:46 - loss: 1.576 - ETA: 3:41 - loss: 1.570 - ETA: 3:28 - loss: 1.565 - ETA: 3:22 - loss: 1.589 - ETA: 3:16 - loss: 1.565 - ETA: 3:09 - loss: 1.549 - ETA: 3:03 - loss: 1.572 - ETA: 2:58 - loss: 1.564 - ETA: 2:51 - loss: 1.581 - ETA: 2:44 - loss: 1.571 - ETA: 2:36 - loss: 1.576 - ETA: 2:29 - loss: 1.576 - ETA: 2:23 - loss: 1.585 - ETA: 2:17 - loss: 1.591 - ETA: 2:10 - loss: 1.611 - ETA: 2:03 - loss: 1.595 - ETA: 1:56 - loss: 1.604 - ETA: 1:49 - loss: 1.603 - ETA: 1:40 - loss: 1.598 - ETA: 1:34 - loss: 1.600 - ETA: 1:27 - loss: 1.610 - ETA: 1:21 - loss: 1.591 - ETA: 1:14 - loss: 1.574 - ETA: 1:07 - loss: 1.587 - ETA: 1:01 - loss: 1.587 - ETA: 54s - loss: 1.582 - ETA: 47s - loss: 1.59 - ETA: 40s - loss: 1.58 - ETA: 33s - loss: 1.58 - ETA: 26s - loss: 1.57 - ETA: 20s - loss: 1.58 - ETA: 13s - loss: 1.57 - ETA: 6s - loss: 1.5743 - ETA: 0s - loss: 1.578 - 307s 213ms/step - loss: 1.5794\n",
      "Epoch 19/70\n"
     ]
    },
    {
     "name": "stdout",
     "output_type": "stream",
     "text": [
      "1441/1441 [==============================] - ETA: 2:02 - loss: 1.360 - ETA: 3:47 - loss: 1.417 - ETA: 4:06 - loss: 1.317 - ETA: 4:16 - loss: 1.340 - ETA: 4:17 - loss: 1.427 - ETA: 4:15 - loss: 1.408 - ETA: 3:49 - loss: 1.422 - ETA: 3:47 - loss: 1.411 - ETA: 3:46 - loss: 1.426 - ETA: 3:45 - loss: 1.486 - ETA: 3:31 - loss: 1.495 - ETA: 3:29 - loss: 1.505 - ETA: 3:17 - loss: 1.501 - ETA: 3:12 - loss: 1.503 - ETA: 3:07 - loss: 1.524 - ETA: 3:02 - loss: 1.507 - ETA: 2:57 - loss: 1.492 - ETA: 2:53 - loss: 1.481 - ETA: 2:48 - loss: 1.485 - ETA: 2:43 - loss: 1.503 - ETA: 2:34 - loss: 1.514 - ETA: 2:29 - loss: 1.509 - ETA: 2:23 - loss: 1.506 - ETA: 2:17 - loss: 1.515 - ETA: 2:08 - loss: 1.514 - ETA: 2:02 - loss: 1.517 - ETA: 1:53 - loss: 1.515 - ETA: 1:47 - loss: 1.501 - ETA: 1:39 - loss: 1.510 - ETA: 1:34 - loss: 1.497 - ETA: 1:28 - loss: 1.489 - ETA: 1:23 - loss: 1.488 - ETA: 1:15 - loss: 1.478 - ETA: 1:09 - loss: 1.483 - ETA: 1:03 - loss: 1.473 - ETA: 57s - loss: 1.486 - ETA: 51s - loss: 1.48 - ETA: 45s - loss: 1.48 - ETA: 38s - loss: 1.47 - ETA: 32s - loss: 1.46 - ETA: 26s - loss: 1.47 - ETA: 19s - loss: 1.47 - ETA: 13s - loss: 1.47 - ETA: 6s - loss: 1.4830 - ETA: 0s - loss: 1.475 - 299s 207ms/step - loss: 1.4779\n",
      "Epoch 20/70\n",
      "1441/1441 [==============================] - ETA: 4:53 - loss: 1.257 - ETA: 5:04 - loss: 1.330 - ETA: 3:59 - loss: 1.229 - ETA: 3:48 - loss: 1.325 - ETA: 3:34 - loss: 1.351 - ETA: 3:22 - loss: 1.428 - ETA: 3:20 - loss: 1.473 - ETA: 3:17 - loss: 1.440 - ETA: 3:19 - loss: 1.471 - ETA: 3:19 - loss: 1.487 - ETA: 3:20 - loss: 1.467 - ETA: 3:19 - loss: 1.457 - ETA: 3:13 - loss: 1.461 - ETA: 3:09 - loss: 1.440 - ETA: 3:05 - loss: 1.429 - ETA: 3:01 - loss: 1.436 - ETA: 2:57 - loss: 1.409 - ETA: 2:52 - loss: 1.410 - ETA: 2:47 - loss: 1.391 - ETA: 2:42 - loss: 1.388 - ETA: 2:37 - loss: 1.413 - ETA: 2:30 - loss: 1.400 - ETA: 2:25 - loss: 1.396 - ETA: 2:19 - loss: 1.402 - ETA: 2:09 - loss: 1.420 - ETA: 2:03 - loss: 1.436 - ETA: 1:57 - loss: 1.424 - ETA: 1:51 - loss: 1.413 - ETA: 1:45 - loss: 1.425 - ETA: 1:39 - loss: 1.422 - ETA: 1:32 - loss: 1.431 - ETA: 1:26 - loss: 1.440 - ETA: 1:20 - loss: 1.436 - ETA: 1:12 - loss: 1.440 - ETA: 1:06 - loss: 1.433 - ETA: 59s - loss: 1.434 - ETA: 53s - loss: 1.43 - ETA: 46s - loss: 1.42 - ETA: 40s - loss: 1.42 - ETA: 33s - loss: 1.41 - ETA: 27s - loss: 1.40 - ETA: 20s - loss: 1.39 - ETA: 13s - loss: 1.39 - ETA: 6s - loss: 1.3962 - ETA: 0s - loss: 1.402 - 307s 213ms/step - loss: 1.4019\n",
      "Epoch 21/70\n",
      "1441/1441 [==============================] - ETA: 5:25 - loss: 1.491 - ETA: 3:53 - loss: 1.341 - ETA: 4:14 - loss: 1.236 - ETA: 3:54 - loss: 1.162 - ETA: 4:00 - loss: 1.262 - ETA: 4:01 - loss: 1.225 - ETA: 3:59 - loss: 1.185 - ETA: 3:58 - loss: 1.165 - ETA: 3:44 - loss: 1.143 - ETA: 3:36 - loss: 1.133 - ETA: 3:34 - loss: 1.110 - ETA: 3:30 - loss: 1.131 - ETA: 3:25 - loss: 1.118 - ETA: 3:20 - loss: 1.126 - ETA: 3:14 - loss: 1.111 - ETA: 3:09 - loss: 1.103 - ETA: 3:01 - loss: 1.071 - ETA: 2:55 - loss: 1.082 - ETA: 2:50 - loss: 1.073 - ETA: 2:44 - loss: 1.081 - ETA: 2:39 - loss: 1.080 - ETA: 2:33 - loss: 1.073 - ETA: 2:27 - loss: 1.073 - ETA: 2:21 - loss: 1.070 - ETA: 2:13 - loss: 1.074 - ETA: 2:06 - loss: 1.078 - ETA: 2:00 - loss: 1.076 - ETA: 1:54 - loss: 1.072 - ETA: 1:45 - loss: 1.069 - ETA: 1:39 - loss: 1.066 - ETA: 1:32 - loss: 1.068 - ETA: 1:25 - loss: 1.080 - ETA: 1:18 - loss: 1.076 - ETA: 1:12 - loss: 1.069 - ETA: 1:06 - loss: 1.060 - ETA: 59s - loss: 1.057 - ETA: 53s - loss: 1.06 - ETA: 46s - loss: 1.06 - ETA: 40s - loss: 1.05 - ETA: 33s - loss: 1.06 - ETA: 26s - loss: 1.05 - ETA: 20s - loss: 1.06 - ETA: 13s - loss: 1.05 - ETA: 6s - loss: 1.0582 - ETA: 0s - loss: 1.055 - 301s 209ms/step - loss: 1.0544\n",
      "Epoch 22/70\n",
      "1441/1441 [==============================] - ETA: 5:51 - loss: 1.050 - ETA: 5:37 - loss: 1.036 - ETA: 4:58 - loss: 0.907 - ETA: 4:49 - loss: 0.936 - ETA: 4:25 - loss: 0.937 - ETA: 4:21 - loss: 0.950 - ETA: 4:16 - loss: 0.956 - ETA: 4:12 - loss: 0.922 - ETA: 4:06 - loss: 0.917 - ETA: 4:01 - loss: 0.901 - ETA: 3:43 - loss: 0.880 - ETA: 3:38 - loss: 0.880 - ETA: 3:34 - loss: 0.858 - ETA: 3:29 - loss: 0.861 - ETA: 3:23 - loss: 0.866 - ETA: 3:17 - loss: 0.859 - ETA: 3:11 - loss: 0.868 - ETA: 3:05 - loss: 0.868 - ETA: 2:59 - loss: 0.868 - ETA: 2:47 - loss: 0.873 - ETA: 2:41 - loss: 0.871 - ETA: 2:34 - loss: 0.890 - ETA: 2:28 - loss: 0.895 - ETA: 2:22 - loss: 0.892 - ETA: 2:16 - loss: 0.896 - ETA: 2:09 - loss: 0.894 - ETA: 2:02 - loss: 0.885 - ETA: 1:56 - loss: 0.881 - ETA: 1:49 - loss: 0.902 - ETA: 1:42 - loss: 0.897 - ETA: 1:36 - loss: 0.908 - ETA: 1:28 - loss: 0.908 - ETA: 1:22 - loss: 0.910 - ETA: 1:15 - loss: 0.914 - ETA: 1:08 - loss: 0.915 - ETA: 1:01 - loss: 0.925 - ETA: 54s - loss: 0.917 - ETA: 47s - loss: 0.91 - ETA: 41s - loss: 0.92 - ETA: 34s - loss: 0.91 - ETA: 27s - loss: 0.92 - ETA: 20s - loss: 0.92 - ETA: 13s - loss: 0.92 - ETA: 7s - loss: 0.9263 - ETA: 0s - loss: 0.934 - 308s 214ms/step - loss: 0.9366\n",
      "Epoch 23/70\n",
      "1441/1441 [==============================] - ETA: 5:26 - loss: 0.922 - ETA: 5:20 - loss: 1.018 - ETA: 5:07 - loss: 1.116 - ETA: 4:53 - loss: 1.072 - ETA: 4:49 - loss: 1.116 - ETA: 4:47 - loss: 1.161 - ETA: 4:41 - loss: 1.230 - ETA: 4:26 - loss: 1.198 - ETA: 4:17 - loss: 1.199 - ETA: 4:10 - loss: 1.174 - ETA: 4:02 - loss: 1.161 - ETA: 3:56 - loss: 1.180 - ETA: 3:51 - loss: 1.157 - ETA: 3:42 - loss: 1.167 - ETA: 3:26 - loss: 1.151 - ETA: 3:20 - loss: 1.143 - ETA: 3:13 - loss: 1.150 - ETA: 3:07 - loss: 1.143 - ETA: 3:01 - loss: 1.149 - ETA: 2:54 - loss: 1.152 - ETA: 2:48 - loss: 1.136 - ETA: 2:41 - loss: 1.128 - ETA: 2:35 - loss: 1.114 - ETA: 2:28 - loss: 1.110 - ETA: 2:21 - loss: 1.100 - ETA: 2:11 - loss: 1.101 - ETA: 2:04 - loss: 1.101 - ETA: 1:56 - loss: 1.095 - ETA: 1:49 - loss: 1.091 - ETA: 1:42 - loss: 1.090 - ETA: 1:36 - loss: 1.083 - ETA: 1:27 - loss: 1.079 - ETA: 1:20 - loss: 1.075 - ETA: 1:14 - loss: 1.077 - ETA: 1:07 - loss: 1.074 - ETA: 1:00 - loss: 1.074 - ETA: 54s - loss: 1.071 - ETA: 47s - loss: 1.06 - ETA: 40s - loss: 1.06 - ETA: 34s - loss: 1.05 - ETA: 27s - loss: 1.04 - ETA: 20s - loss: 1.04 - ETA: 13s - loss: 1.06 - ETA: 6s - loss: 1.0638 - ETA: 0s - loss: 1.058 - 306s 212ms/step - loss: 1.0591\n",
      "Epoch 24/70\n",
      "1441/1441 [==============================] - ETA: 5:24 - loss: 1.016 - ETA: 5:18 - loss: 1.124 - ETA: 4:07 - loss: 0.983 - ETA: 4:14 - loss: 0.981 - ETA: 3:58 - loss: 0.981 - ETA: 3:56 - loss: 0.981 - ETA: 3:56 - loss: 0.957 - ETA: 3:54 - loss: 0.989 - ETA: 3:39 - loss: 0.996 - ETA: 3:34 - loss: 0.956 - ETA: 3:23 - loss: 0.961 - ETA: 3:19 - loss: 0.971 - ETA: 3:16 - loss: 0.953 - ETA: 3:09 - loss: 0.986 - ETA: 3:05 - loss: 0.982 - ETA: 3:01 - loss: 0.966 - ETA: 2:57 - loss: 0.943 - ETA: 2:53 - loss: 0.942 - ETA: 2:47 - loss: 0.936 - ETA: 2:42 - loss: 0.928 - ETA: 2:36 - loss: 0.932 - ETA: 2:30 - loss: 0.940 - ETA: 2:25 - loss: 0.936 - ETA: 2:19 - loss: 0.933 - ETA: 2:13 - loss: 0.931 - ETA: 2:06 - loss: 0.924 - ETA: 1:59 - loss: 0.915 - ETA: 1:52 - loss: 0.919 - ETA: 1:44 - loss: 0.915 - ETA: 1:37 - loss: 0.907 - ETA: 1:31 - loss: 0.904 - ETA: 1:25 - loss: 0.902 - ETA: 1:17 - loss: 0.903 - ETA: 1:11 - loss: 0.906 - ETA: 1:04 - loss: 0.901 - ETA: 58s - loss: 0.893 - ETA: 52s - loss: 0.89 - ETA: 45s - loss: 0.88 - ETA: 38s - loss: 0.88 - ETA: 32s - loss: 0.88 - ETA: 26s - loss: 0.88 - ETA: 19s - loss: 0.88 - ETA: 13s - loss: 0.88 - ETA: 6s - loss: 0.8820 - ETA: 0s - loss: 0.877 - 295s 205ms/step - loss: 0.8765\n",
      "Epoch 25/70\n"
     ]
    },
    {
     "name": "stdout",
     "output_type": "stream",
     "text": [
      "1441/1441 [==============================] - ETA: 5:26 - loss: 0.653 - ETA: 3:43 - loss: 0.543 - ETA: 4:06 - loss: 0.650 - ETA: 4:16 - loss: 0.641 - ETA: 4:01 - loss: 0.604 - ETA: 4:03 - loss: 0.618 - ETA: 4:06 - loss: 0.606 - ETA: 4:03 - loss: 0.614 - ETA: 4:01 - loss: 0.635 - ETA: 3:57 - loss: 0.634 - ETA: 3:49 - loss: 0.637 - ETA: 3:44 - loss: 0.625 - ETA: 3:35 - loss: 0.639 - ETA: 3:27 - loss: 0.639 - ETA: 3:22 - loss: 0.649 - ETA: 3:13 - loss: 0.646 - ETA: 3:08 - loss: 0.651 - ETA: 2:58 - loss: 0.647 - ETA: 2:51 - loss: 0.653 - ETA: 2:45 - loss: 0.652 - ETA: 2:35 - loss: 0.642 - ETA: 2:29 - loss: 0.644 - ETA: 2:23 - loss: 0.650 - ETA: 2:17 - loss: 0.644 - ETA: 2:10 - loss: 0.644 - ETA: 2:04 - loss: 0.636 - ETA: 1:58 - loss: 0.636 - ETA: 1:52 - loss: 0.638 - ETA: 1:47 - loss: 0.635 - ETA: 1:42 - loss: 0.632 - ETA: 1:33 - loss: 0.633 - ETA: 1:26 - loss: 0.628 - ETA: 1:20 - loss: 0.627 - ETA: 1:14 - loss: 0.624 - ETA: 1:06 - loss: 0.627 - ETA: 59s - loss: 0.626 - ETA: 53s - loss: 0.62 - ETA: 47s - loss: 0.62 - ETA: 40s - loss: 0.62 - ETA: 33s - loss: 0.62 - ETA: 26s - loss: 0.62 - ETA: 20s - loss: 0.62 - ETA: 13s - loss: 0.62 - ETA: 6s - loss: 0.6241 - ETA: 0s - loss: 0.625 - 307s 213ms/step - loss: 0.6253\n",
      "Epoch 26/70\n",
      "1441/1441 [==============================] - ETA: 2:05 - loss: 0.547 - ETA: 3:40 - loss: 0.538 - ETA: 4:02 - loss: 0.503 - ETA: 4:16 - loss: 0.481 - ETA: 4:02 - loss: 0.471 - ETA: 4:03 - loss: 0.478 - ETA: 4:00 - loss: 0.491 - ETA: 4:00 - loss: 0.498 - ETA: 3:55 - loss: 0.490 - ETA: 3:51 - loss: 0.493 - ETA: 3:46 - loss: 0.486 - ETA: 3:42 - loss: 0.492 - ETA: 3:36 - loss: 0.499 - ETA: 3:22 - loss: 0.504 - ETA: 3:17 - loss: 0.496 - ETA: 3:13 - loss: 0.499 - ETA: 3:06 - loss: 0.507 - ETA: 3:01 - loss: 0.507 - ETA: 2:55 - loss: 0.503 - ETA: 2:49 - loss: 0.497 - ETA: 2:44 - loss: 0.497 - ETA: 2:38 - loss: 0.501 - ETA: 2:32 - loss: 0.504 - ETA: 2:25 - loss: 0.496 - ETA: 2:18 - loss: 0.496 - ETA: 2:11 - loss: 0.496 - ETA: 2:04 - loss: 0.498 - ETA: 1:57 - loss: 0.498 - ETA: 1:51 - loss: 0.503 - ETA: 1:42 - loss: 0.506 - ETA: 1:35 - loss: 0.508 - ETA: 1:27 - loss: 0.505 - ETA: 1:20 - loss: 0.505 - ETA: 1:14 - loss: 0.509 - ETA: 1:07 - loss: 0.508 - ETA: 1:00 - loss: 0.505 - ETA: 53s - loss: 0.504 - ETA: 47s - loss: 0.50 - ETA: 40s - loss: 0.50 - ETA: 33s - loss: 0.50 - ETA: 27s - loss: 0.50 - ETA: 20s - loss: 0.50 - ETA: 13s - loss: 0.50 - ETA: 6s - loss: 0.5002 - ETA: 0s - loss: 0.498 - 305s 212ms/step - loss: 0.4982\n",
      "Epoch 27/70\n",
      "1441/1441 [==============================] - ETA: 4:10 - loss: 0.427 - ETA: 4:36 - loss: 0.516 - ETA: 4:41 - loss: 0.491 - ETA: 4:44 - loss: 0.471 - ETA: 4:39 - loss: 0.446 - ETA: 4:34 - loss: 0.432 - ETA: 4:30 - loss: 0.439 - ETA: 4:25 - loss: 0.422 - ETA: 4:19 - loss: 0.416 - ETA: 4:12 - loss: 0.409 - ETA: 4:05 - loss: 0.415 - ETA: 3:59 - loss: 0.414 - ETA: 3:48 - loss: 0.416 - ETA: 3:41 - loss: 0.422 - ETA: 3:34 - loss: 0.422 - ETA: 3:28 - loss: 0.420 - ETA: 3:21 - loss: 0.420 - ETA: 3:13 - loss: 0.418 - ETA: 3:06 - loss: 0.412 - ETA: 2:59 - loss: 0.415 - ETA: 2:49 - loss: 0.411 - ETA: 2:42 - loss: 0.406 - ETA: 2:35 - loss: 0.409 - ETA: 2:28 - loss: 0.415 - ETA: 2:22 - loss: 0.412 - ETA: 2:12 - loss: 0.411 - ETA: 2:05 - loss: 0.412 - ETA: 1:58 - loss: 0.413 - ETA: 1:52 - loss: 0.414 - ETA: 1:45 - loss: 0.415 - ETA: 1:36 - loss: 0.416 - ETA: 1:29 - loss: 0.419 - ETA: 1:22 - loss: 0.422 - ETA: 1:16 - loss: 0.420 - ETA: 1:09 - loss: 0.420 - ETA: 1:02 - loss: 0.421 - ETA: 55s - loss: 0.418 - ETA: 48s - loss: 0.42 - ETA: 41s - loss: 0.42 - ETA: 34s - loss: 0.41 - ETA: 27s - loss: 0.41 - ETA: 20s - loss: 0.41 - ETA: 14s - loss: 0.41 - ETA: 7s - loss: 0.4175 - ETA: 0s - loss: 0.416 - 311s 216ms/step - loss: 0.4159\n",
      "Epoch 28/70\n",
      "1441/1441 [==============================] - ETA: 5:28 - loss: 0.499 - ETA: 5:16 - loss: 0.403 - ETA: 5:05 - loss: 0.391 - ETA: 4:50 - loss: 0.395 - ETA: 4:40 - loss: 0.407 - ETA: 4:34 - loss: 0.384 - ETA: 4:27 - loss: 0.373 - ETA: 4:19 - loss: 0.380 - ETA: 4:03 - loss: 0.378 - ETA: 3:59 - loss: 0.373 - ETA: 3:55 - loss: 0.367 - ETA: 3:38 - loss: 0.362 - ETA: 3:33 - loss: 0.364 - ETA: 3:28 - loss: 0.361 - ETA: 3:22 - loss: 0.363 - ETA: 3:16 - loss: 0.368 - ETA: 3:11 - loss: 0.370 - ETA: 3:05 - loss: 0.369 - ETA: 2:57 - loss: 0.369 - ETA: 2:51 - loss: 0.368 - ETA: 2:45 - loss: 0.369 - ETA: 2:39 - loss: 0.370 - ETA: 2:32 - loss: 0.371 - ETA: 2:25 - loss: 0.370 - ETA: 2:19 - loss: 0.369 - ETA: 2:12 - loss: 0.366 - ETA: 2:05 - loss: 0.365 - ETA: 1:58 - loss: 0.363 - ETA: 1:51 - loss: 0.362 - ETA: 1:45 - loss: 0.362 - ETA: 1:36 - loss: 0.361 - ETA: 1:29 - loss: 0.360 - ETA: 1:23 - loss: 0.360 - ETA: 1:16 - loss: 0.357 - ETA: 1:09 - loss: 0.356 - ETA: 1:02 - loss: 0.356 - ETA: 55s - loss: 0.354 - ETA: 48s - loss: 0.35 - ETA: 41s - loss: 0.35 - ETA: 35s - loss: 0.35 - ETA: 28s - loss: 0.35 - ETA: 21s - loss: 0.35 - ETA: 14s - loss: 0.35 - ETA: 7s - loss: 0.3565 - ETA: 0s - loss: 0.358 - 318s 221ms/step - loss: 0.3578\n",
      "Epoch 29/70\n",
      "1441/1441 [==============================] - ETA: 4:47 - loss: 0.308 - ETA: 5:10 - loss: 0.344 - ETA: 5:07 - loss: 0.290 - ETA: 5:00 - loss: 0.295 - ETA: 4:17 - loss: 0.302 - ETA: 4:10 - loss: 0.290 - ETA: 3:49 - loss: 0.301 - ETA: 3:48 - loss: 0.316 - ETA: 3:47 - loss: 0.317 - ETA: 3:43 - loss: 0.325 - ETA: 3:35 - loss: 0.327 - ETA: 3:31 - loss: 0.321 - ETA: 3:27 - loss: 0.319 - ETA: 3:14 - loss: 0.315 - ETA: 3:09 - loss: 0.312 - ETA: 3:04 - loss: 0.310 - ETA: 2:59 - loss: 0.313 - ETA: 2:54 - loss: 0.312 - ETA: 2:49 - loss: 0.309 - ETA: 2:44 - loss: 0.309 - ETA: 2:38 - loss: 0.309 - ETA: 2:32 - loss: 0.310 - ETA: 2:24 - loss: 0.310 - ETA: 2:19 - loss: 0.311 - ETA: 2:10 - loss: 0.308 - ETA: 2:03 - loss: 0.310 - ETA: 1:57 - loss: 0.313 - ETA: 1:51 - loss: 0.314 - ETA: 1:45 - loss: 0.314 - ETA: 1:39 - loss: 0.311 - ETA: 1:33 - loss: 0.309 - ETA: 1:26 - loss: 0.310 - ETA: 1:20 - loss: 0.312 - ETA: 1:13 - loss: 0.311 - ETA: 1:07 - loss: 0.313 - ETA: 1:00 - loss: 0.311 - ETA: 54s - loss: 0.310 - ETA: 47s - loss: 0.31 - ETA: 40s - loss: 0.30 - ETA: 34s - loss: 0.30 - ETA: 27s - loss: 0.30 - ETA: 20s - loss: 0.30 - ETA: 13s - loss: 0.30 - ETA: 7s - loss: 0.3105 - ETA: 0s - loss: 0.312 - 313s 217ms/step - loss: 0.3121\n",
      "Epoch 30/70\n",
      "1441/1441 [==============================] - ETA: 5:55 - loss: 0.252 - ETA: 5:04 - loss: 0.281 - ETA: 4:56 - loss: 0.272 - ETA: 4:49 - loss: 0.276 - ETA: 4:44 - loss: 0.268 - ETA: 4:18 - loss: 0.264 - ETA: 4:16 - loss: 0.273 - ETA: 4:12 - loss: 0.277 - ETA: 3:50 - loss: 0.274 - ETA: 3:45 - loss: 0.268 - ETA: 3:38 - loss: 0.277 - ETA: 3:34 - loss: 0.276 - ETA: 3:28 - loss: 0.281 - ETA: 3:23 - loss: 0.282 - ETA: 3:18 - loss: 0.276 - ETA: 3:07 - loss: 0.279 - ETA: 3:02 - loss: 0.279 - ETA: 2:57 - loss: 0.285 - ETA: 2:51 - loss: 0.284 - ETA: 2:45 - loss: 0.284 - ETA: 2:39 - loss: 0.284 - ETA: 2:32 - loss: 0.282 - ETA: 2:24 - loss: 0.283 - ETA: 2:18 - loss: 0.285 - ETA: 2:12 - loss: 0.283 - ETA: 2:06 - loss: 0.282 - ETA: 2:00 - loss: 0.281 - ETA: 1:54 - loss: 0.280 - ETA: 1:47 - loss: 0.279 - ETA: 1:41 - loss: 0.278 - ETA: 1:33 - loss: 0.276 - ETA: 1:26 - loss: 0.275 - ETA: 1:19 - loss: 0.274 - ETA: 1:13 - loss: 0.273 - ETA: 1:06 - loss: 0.277 - ETA: 1:00 - loss: 0.276 - ETA: 53s - loss: 0.276 - ETA: 46s - loss: 0.27 - ETA: 40s - loss: 0.27 - ETA: 33s - loss: 0.27 - ETA: 26s - loss: 0.27 - ETA: 20s - loss: 0.27 - ETA: 13s - loss: 0.27 - ETA: 6s - loss: 0.2765 - ETA: 0s - loss: 0.277 - 304s 211ms/step - loss: 0.2770\n",
      "Epoch 31/70\n"
     ]
    },
    {
     "name": "stdout",
     "output_type": "stream",
     "text": [
      "1441/1441 [==============================] - ETA: 5:15 - loss: 0.234 - ETA: 5:17 - loss: 0.248 - ETA: 5:13 - loss: 0.256 - ETA: 4:59 - loss: 0.254 - ETA: 4:30 - loss: 0.243 - ETA: 4:25 - loss: 0.240 - ETA: 4:19 - loss: 0.239 - ETA: 4:03 - loss: 0.246 - ETA: 3:58 - loss: 0.244 - ETA: 3:55 - loss: 0.253 - ETA: 3:49 - loss: 0.250 - ETA: 3:44 - loss: 0.250 - ETA: 3:39 - loss: 0.250 - ETA: 3:33 - loss: 0.249 - ETA: 3:27 - loss: 0.253 - ETA: 3:20 - loss: 0.253 - ETA: 3:07 - loss: 0.250 - ETA: 3:01 - loss: 0.250 - ETA: 2:55 - loss: 0.246 - ETA: 2:49 - loss: 0.247 - ETA: 2:42 - loss: 0.248 - ETA: 2:32 - loss: 0.249 - ETA: 2:26 - loss: 0.251 - ETA: 2:19 - loss: 0.252 - ETA: 2:13 - loss: 0.252 - ETA: 2:07 - loss: 0.252 - ETA: 2:00 - loss: 0.253 - ETA: 1:53 - loss: 0.252 - ETA: 1:47 - loss: 0.252 - ETA: 1:40 - loss: 0.252 - ETA: 1:34 - loss: 0.251 - ETA: 1:27 - loss: 0.251 - ETA: 1:21 - loss: 0.250 - ETA: 1:14 - loss: 0.250 - ETA: 1:08 - loss: 0.250 - ETA: 1:01 - loss: 0.251 - ETA: 54s - loss: 0.253 - ETA: 48s - loss: 0.25 - ETA: 41s - loss: 0.25 - ETA: 34s - loss: 0.25 - ETA: 27s - loss: 0.25 - ETA: 20s - loss: 0.25 - ETA: 13s - loss: 0.25 - ETA: 7s - loss: 0.2551 - ETA: 0s - loss: 0.255 - 311s 216ms/step - loss: 0.2556\n",
      "Epoch 32/70\n",
      "1441/1441 [==============================] - ETA: 4:59 - loss: 0.197 - ETA: 4:59 - loss: 0.249 - ETA: 5:00 - loss: 0.247 - ETA: 4:24 - loss: 0.260 - ETA: 4:28 - loss: 0.238 - ETA: 4:23 - loss: 0.241 - ETA: 4:20 - loss: 0.242 - ETA: 4:14 - loss: 0.241 - ETA: 4:08 - loss: 0.241 - ETA: 4:03 - loss: 0.237 - ETA: 3:57 - loss: 0.247 - ETA: 3:50 - loss: 0.248 - ETA: 3:33 - loss: 0.250 - ETA: 3:28 - loss: 0.247 - ETA: 3:18 - loss: 0.248 - ETA: 3:12 - loss: 0.244 - ETA: 3:07 - loss: 0.243 - ETA: 3:02 - loss: 0.239 - ETA: 2:51 - loss: 0.242 - ETA: 2:45 - loss: 0.241 - ETA: 2:37 - loss: 0.242 - ETA: 2:31 - loss: 0.242 - ETA: 2:25 - loss: 0.240 - ETA: 2:19 - loss: 0.243 - ETA: 2:13 - loss: 0.244 - ETA: 2:07 - loss: 0.245 - ETA: 2:01 - loss: 0.246 - ETA: 1:55 - loss: 0.245 - ETA: 1:48 - loss: 0.244 - ETA: 1:39 - loss: 0.245 - ETA: 1:33 - loss: 0.245 - ETA: 1:26 - loss: 0.244 - ETA: 1:20 - loss: 0.244 - ETA: 1:13 - loss: 0.247 - ETA: 1:07 - loss: 0.247 - ETA: 1:00 - loss: 0.245 - ETA: 53s - loss: 0.248 - ETA: 46s - loss: 0.24 - ETA: 40s - loss: 0.25 - ETA: 33s - loss: 0.25 - ETA: 26s - loss: 0.25 - ETA: 20s - loss: 0.25 - ETA: 13s - loss: 0.25 - ETA: 6s - loss: 0.2536 - ETA: 0s - loss: 0.252 - 303s 210ms/step - loss: 0.2527\n",
      "Epoch 33/70\n",
      "1441/1441 [==============================] - ETA: 5:07 - loss: 0.208 - ETA: 5:05 - loss: 0.205 - ETA: 5:02 - loss: 0.221 - ETA: 4:55 - loss: 0.229 - ETA: 4:46 - loss: 0.231 - ETA: 4:39 - loss: 0.225 - ETA: 4:31 - loss: 0.222 - ETA: 4:29 - loss: 0.218 - ETA: 4:22 - loss: 0.225 - ETA: 4:15 - loss: 0.226 - ETA: 4:07 - loss: 0.230 - ETA: 4:00 - loss: 0.229 - ETA: 3:53 - loss: 0.228 - ETA: 3:46 - loss: 0.227 - ETA: 3:38 - loss: 0.227 - ETA: 3:32 - loss: 0.228 - ETA: 3:25 - loss: 0.229 - ETA: 3:17 - loss: 0.233 - ETA: 3:09 - loss: 0.231 - ETA: 2:59 - loss: 0.230 - ETA: 2:52 - loss: 0.232 - ETA: 2:44 - loss: 0.233 - ETA: 2:33 - loss: 0.233 - ETA: 2:27 - loss: 0.229 - ETA: 2:16 - loss: 0.228 - ETA: 2:10 - loss: 0.229 - ETA: 2:03 - loss: 0.229 - ETA: 1:56 - loss: 0.229 - ETA: 1:50 - loss: 0.229 - ETA: 1:43 - loss: 0.230 - ETA: 1:36 - loss: 0.230 - ETA: 1:30 - loss: 0.228 - ETA: 1:23 - loss: 0.228 - ETA: 1:16 - loss: 0.227 - ETA: 1:08 - loss: 0.227 - ETA: 1:01 - loss: 0.228 - ETA: 54s - loss: 0.227 - ETA: 47s - loss: 0.22 - ETA: 40s - loss: 0.22 - ETA: 34s - loss: 0.22 - ETA: 27s - loss: 0.22 - ETA: 20s - loss: 0.22 - ETA: 13s - loss: 0.22 - ETA: 7s - loss: 0.2251 - ETA: 0s - loss: 0.225 - 313s 217ms/step - loss: 0.2255\n",
      "Epoch 34/70\n",
      "1441/1441 [==============================] - ETA: 5:24 - loss: 0.193 - ETA: 4:00 - loss: 0.192 - ETA: 4:15 - loss: 0.202 - ETA: 4:11 - loss: 0.195 - ETA: 4:13 - loss: 0.198 - ETA: 3:55 - loss: 0.201 - ETA: 3:57 - loss: 0.200 - ETA: 3:58 - loss: 0.203 - ETA: 3:55 - loss: 0.203 - ETA: 3:51 - loss: 0.209 - ETA: 3:46 - loss: 0.209 - ETA: 3:29 - loss: 0.205 - ETA: 3:25 - loss: 0.202 - ETA: 3:13 - loss: 0.199 - ETA: 3:07 - loss: 0.195 - ETA: 3:02 - loss: 0.198 - ETA: 2:58 - loss: 0.198 - ETA: 2:52 - loss: 0.197 - ETA: 2:47 - loss: 0.203 - ETA: 2:42 - loss: 0.202 - ETA: 2:36 - loss: 0.201 - ETA: 2:30 - loss: 0.201 - ETA: 2:24 - loss: 0.201 - ETA: 2:18 - loss: 0.204 - ETA: 2:11 - loss: 0.202 - ETA: 2:05 - loss: 0.201 - ETA: 1:59 - loss: 0.201 - ETA: 1:52 - loss: 0.201 - ETA: 1:46 - loss: 0.200 - ETA: 1:40 - loss: 0.201 - ETA: 1:34 - loss: 0.199 - ETA: 1:27 - loss: 0.201 - ETA: 1:21 - loss: 0.202 - ETA: 1:14 - loss: 0.203 - ETA: 1:08 - loss: 0.203 - ETA: 1:01 - loss: 0.203 - ETA: 54s - loss: 0.204 - ETA: 47s - loss: 0.20 - ETA: 41s - loss: 0.20 - ETA: 34s - loss: 0.20 - ETA: 27s - loss: 0.20 - ETA: 20s - loss: 0.20 - ETA: 13s - loss: 0.20 - ETA: 7s - loss: 0.2052 - ETA: 0s - loss: 0.205 - 315s 218ms/step - loss: 0.2053\n",
      "Epoch 35/70\n",
      "1441/1441 [==============================] - ETA: 5:15 - loss: 0.194 - ETA: 5:28 - loss: 0.188 - ETA: 5:07 - loss: 0.181 - ETA: 4:57 - loss: 0.185 - ETA: 4:50 - loss: 0.184 - ETA: 4:43 - loss: 0.180 - ETA: 4:37 - loss: 0.177 - ETA: 4:19 - loss: 0.181 - ETA: 4:07 - loss: 0.181 - ETA: 4:00 - loss: 0.182 - ETA: 3:52 - loss: 0.180 - ETA: 3:45 - loss: 0.178 - ETA: 3:38 - loss: 0.180 - ETA: 3:23 - loss: 0.178 - ETA: 3:17 - loss: 0.179 - ETA: 3:12 - loss: 0.182 - ETA: 3:04 - loss: 0.181 - ETA: 2:56 - loss: 0.181 - ETA: 2:50 - loss: 0.181 - ETA: 2:42 - loss: 0.182 - ETA: 2:36 - loss: 0.182 - ETA: 2:27 - loss: 0.181 - ETA: 2:22 - loss: 0.183 - ETA: 2:15 - loss: 0.182 - ETA: 2:08 - loss: 0.183 - ETA: 2:01 - loss: 0.186 - ETA: 1:55 - loss: 0.188 - ETA: 1:49 - loss: 0.188 - ETA: 1:41 - loss: 0.187 - ETA: 1:35 - loss: 0.187 - ETA: 1:29 - loss: 0.189 - ETA: 1:23 - loss: 0.189 - ETA: 1:17 - loss: 0.188 - ETA: 1:11 - loss: 0.188 - ETA: 1:04 - loss: 0.188 - ETA: 58s - loss: 0.187 - ETA: 51s - loss: 0.18 - ETA: 45s - loss: 0.18 - ETA: 39s - loss: 0.18 - ETA: 32s - loss: 0.18 - ETA: 26s - loss: 0.18 - ETA: 19s - loss: 0.18 - ETA: 13s - loss: 0.18 - ETA: 6s - loss: 0.1861 - ETA: 0s - loss: 0.186 - 298s 207ms/step - loss: 0.1860\n",
      "Epoch 36/70\n",
      "1441/1441 [==============================] - ETA: 5:00 - loss: 0.161 - ETA: 4:57 - loss: 0.167 - ETA: 4:48 - loss: 0.170 - ETA: 4:45 - loss: 0.170 - ETA: 4:41 - loss: 0.174 - ETA: 4:26 - loss: 0.169 - ETA: 4:18 - loss: 0.167 - ETA: 4:14 - loss: 0.170 - ETA: 4:09 - loss: 0.168 - ETA: 4:04 - loss: 0.169 - ETA: 3:57 - loss: 0.170 - ETA: 3:45 - loss: 0.168 - ETA: 3:40 - loss: 0.168 - ETA: 3:35 - loss: 0.167 - ETA: 3:30 - loss: 0.167 - ETA: 3:23 - loss: 0.166 - ETA: 3:17 - loss: 0.169 - ETA: 3:10 - loss: 0.167 - ETA: 3:02 - loss: 0.168 - ETA: 2:54 - loss: 0.170 - ETA: 2:47 - loss: 0.168 - ETA: 2:40 - loss: 0.168 - ETA: 2:33 - loss: 0.168 - ETA: 2:26 - loss: 0.167 - ETA: 2:16 - loss: 0.166 - ETA: 2:09 - loss: 0.168 - ETA: 2:02 - loss: 0.169 - ETA: 1:56 - loss: 0.169 - ETA: 1:50 - loss: 0.168 - ETA: 1:43 - loss: 0.169 - ETA: 1:37 - loss: 0.170 - ETA: 1:30 - loss: 0.169 - ETA: 1:23 - loss: 0.170 - ETA: 1:16 - loss: 0.170 - ETA: 1:08 - loss: 0.170 - ETA: 1:01 - loss: 0.170 - ETA: 54s - loss: 0.170 - ETA: 47s - loss: 0.17 - ETA: 41s - loss: 0.17 - ETA: 34s - loss: 0.17 - ETA: 27s - loss: 0.17 - ETA: 20s - loss: 0.16 - ETA: 13s - loss: 0.16 - ETA: 7s - loss: 0.1700 - ETA: 0s - loss: 0.169 - 315s 218ms/step - loss: 0.1698\n",
      "Epoch 37/70\n"
     ]
    },
    {
     "name": "stdout",
     "output_type": "stream",
     "text": [
      "1441/1441 [==============================] - ETA: 5:14 - loss: 0.141 - ETA: 5:16 - loss: 0.149 - ETA: 5:14 - loss: 0.158 - ETA: 5:05 - loss: 0.168 - ETA: 4:57 - loss: 0.172 - ETA: 4:49 - loss: 0.177 - ETA: 4:20 - loss: 0.179 - ETA: 4:11 - loss: 0.179 - ETA: 4:06 - loss: 0.180 - ETA: 3:59 - loss: 0.176 - ETA: 3:53 - loss: 0.175 - ETA: 3:47 - loss: 0.177 - ETA: 3:42 - loss: 0.176 - ETA: 3:33 - loss: 0.176 - ETA: 3:27 - loss: 0.176 - ETA: 3:23 - loss: 0.176 - ETA: 3:17 - loss: 0.176 - ETA: 3:10 - loss: 0.177 - ETA: 3:02 - loss: 0.176 - ETA: 2:56 - loss: 0.175 - ETA: 2:50 - loss: 0.173 - ETA: 2:43 - loss: 0.174 - ETA: 2:36 - loss: 0.174 - ETA: 2:28 - loss: 0.172 - ETA: 2:19 - loss: 0.172 - ETA: 2:13 - loss: 0.170 - ETA: 2:03 - loss: 0.169 - ETA: 1:56 - loss: 0.169 - ETA: 1:50 - loss: 0.169 - ETA: 1:43 - loss: 0.168 - ETA: 1:36 - loss: 0.169 - ETA: 1:30 - loss: 0.168 - ETA: 1:23 - loss: 0.168 - ETA: 1:16 - loss: 0.167 - ETA: 1:09 - loss: 0.168 - ETA: 1:02 - loss: 0.168 - ETA: 55s - loss: 0.168 - ETA: 48s - loss: 0.16 - ETA: 42s - loss: 0.16 - ETA: 34s - loss: 0.16 - ETA: 27s - loss: 0.16 - ETA: 20s - loss: 0.16 - ETA: 13s - loss: 0.16 - ETA: 7s - loss: 0.1666 - ETA: 0s - loss: 0.166 - 310s 215ms/step - loss: 0.1664\n",
      "Epoch 38/70\n",
      "1441/1441 [==============================] - ETA: 5:26 - loss: 0.175 - ETA: 5:22 - loss: 0.173 - ETA: 4:24 - loss: 0.178 - ETA: 4:19 - loss: 0.168 - ETA: 4:19 - loss: 0.168 - ETA: 4:15 - loss: 0.162 - ETA: 3:49 - loss: 0.162 - ETA: 3:49 - loss: 0.160 - ETA: 3:48 - loss: 0.157 - ETA: 3:36 - loss: 0.154 - ETA: 3:31 - loss: 0.153 - ETA: 3:28 - loss: 0.153 - ETA: 3:25 - loss: 0.154 - ETA: 3:20 - loss: 0.156 - ETA: 3:16 - loss: 0.155 - ETA: 3:04 - loss: 0.154 - ETA: 3:00 - loss: 0.154 - ETA: 2:55 - loss: 0.151 - ETA: 2:50 - loss: 0.149 - ETA: 2:45 - loss: 0.149 - ETA: 2:39 - loss: 0.149 - ETA: 2:29 - loss: 0.149 - ETA: 2:22 - loss: 0.149 - ETA: 2:17 - loss: 0.149 - ETA: 2:11 - loss: 0.148 - ETA: 2:02 - loss: 0.150 - ETA: 1:57 - loss: 0.151 - ETA: 1:50 - loss: 0.151 - ETA: 1:44 - loss: 0.152 - ETA: 1:38 - loss: 0.152 - ETA: 1:31 - loss: 0.150 - ETA: 1:25 - loss: 0.150 - ETA: 1:19 - loss: 0.152 - ETA: 1:12 - loss: 0.151 - ETA: 1:05 - loss: 0.151 - ETA: 59s - loss: 0.151 - ETA: 53s - loss: 0.15 - ETA: 46s - loss: 0.15 - ETA: 39s - loss: 0.15 - ETA: 33s - loss: 0.15 - ETA: 26s - loss: 0.15 - ETA: 20s - loss: 0.15 - ETA: 13s - loss: 0.15 - ETA: 6s - loss: 0.1510 - ETA: 0s - loss: 0.151 - 302s 209ms/step - loss: 0.1516\n",
      "Epoch 39/70\n",
      "1441/1441 [==============================] - ETA: 5:05 - loss: 0.157 - ETA: 4:14 - loss: 0.147 - ETA: 4:27 - loss: 0.150 - ETA: 4:27 - loss: 0.142 - ETA: 4:28 - loss: 0.143 - ETA: 4:24 - loss: 0.149 - ETA: 4:20 - loss: 0.148 - ETA: 4:09 - loss: 0.145 - ETA: 4:02 - loss: 0.144 - ETA: 3:59 - loss: 0.143 - ETA: 3:54 - loss: 0.141 - ETA: 3:47 - loss: 0.139 - ETA: 3:32 - loss: 0.140 - ETA: 3:26 - loss: 0.141 - ETA: 3:20 - loss: 0.140 - ETA: 3:10 - loss: 0.140 - ETA: 3:03 - loss: 0.141 - ETA: 2:57 - loss: 0.143 - ETA: 2:52 - loss: 0.141 - ETA: 2:46 - loss: 0.141 - ETA: 2:40 - loss: 0.142 - ETA: 2:35 - loss: 0.141 - ETA: 2:28 - loss: 0.140 - ETA: 2:22 - loss: 0.140 - ETA: 2:13 - loss: 0.140 - ETA: 2:06 - loss: 0.140 - ETA: 2:00 - loss: 0.141 - ETA: 1:53 - loss: 0.140 - ETA: 1:46 - loss: 0.140 - ETA: 1:39 - loss: 0.141 - ETA: 1:33 - loss: 0.141 - ETA: 1:26 - loss: 0.142 - ETA: 1:20 - loss: 0.142 - ETA: 1:13 - loss: 0.143 - ETA: 1:06 - loss: 0.143 - ETA: 59s - loss: 0.142 - ETA: 53s - loss: 0.14 - ETA: 46s - loss: 0.14 - ETA: 39s - loss: 0.14 - ETA: 33s - loss: 0.14 - ETA: 26s - loss: 0.14 - ETA: 20s - loss: 0.14 - ETA: 13s - loss: 0.14 - ETA: 6s - loss: 0.1407 - ETA: 0s - loss: 0.140 - 301s 209ms/step - loss: 0.1404\n",
      "Epoch 40/70\n",
      "1441/1441 [==============================] - ETA: 5:27 - loss: 0.144 - ETA: 5:25 - loss: 0.132 - ETA: 5:16 - loss: 0.127 - ETA: 5:10 - loss: 0.129 - ETA: 4:56 - loss: 0.135 - ETA: 4:51 - loss: 0.135 - ETA: 4:44 - loss: 0.132 - ETA: 4:37 - loss: 0.132 - ETA: 4:23 - loss: 0.131 - ETA: 4:16 - loss: 0.129 - ETA: 4:11 - loss: 0.130 - ETA: 4:02 - loss: 0.134 - ETA: 3:53 - loss: 0.135 - ETA: 3:45 - loss: 0.135 - ETA: 3:41 - loss: 0.132 - ETA: 3:34 - loss: 0.131 - ETA: 3:27 - loss: 0.131 - ETA: 3:20 - loss: 0.131 - ETA: 3:13 - loss: 0.132 - ETA: 3:06 - loss: 0.131 - ETA: 2:57 - loss: 0.131 - ETA: 2:46 - loss: 0.132 - ETA: 2:39 - loss: 0.131 - ETA: 2:32 - loss: 0.129 - ETA: 2:25 - loss: 0.130 - ETA: 2:17 - loss: 0.131 - ETA: 2:10 - loss: 0.130 - ETA: 2:03 - loss: 0.129 - ETA: 1:55 - loss: 0.129 - ETA: 1:48 - loss: 0.128 - ETA: 1:40 - loss: 0.127 - ETA: 1:33 - loss: 0.128 - ETA: 1:26 - loss: 0.127 - ETA: 1:19 - loss: 0.127 - ETA: 1:12 - loss: 0.127 - ETA: 1:05 - loss: 0.127 - ETA: 58s - loss: 0.127 - ETA: 50s - loss: 0.12 - ETA: 43s - loss: 0.12 - ETA: 36s - loss: 0.12 - ETA: 29s - loss: 0.12 - ETA: 21s - loss: 0.12 - ETA: 14s - loss: 0.12 - ETA: 7s - loss: 0.1298 - ETA: 0s - loss: 0.129 - 326s 226ms/step - loss: 0.1299\n",
      "Epoch 41/70\n",
      "1441/1441 [==============================] - ETA: 5:26 - loss: 0.142 - ETA: 5:18 - loss: 0.136 - ETA: 5:17 - loss: 0.137 - ETA: 4:52 - loss: 0.137 - ETA: 4:44 - loss: 0.132 - ETA: 4:20 - loss: 0.129 - ETA: 4:14 - loss: 0.126 - ETA: 4:10 - loss: 0.129 - ETA: 4:05 - loss: 0.129 - ETA: 3:59 - loss: 0.128 - ETA: 3:54 - loss: 0.127 - ETA: 3:37 - loss: 0.128 - ETA: 3:29 - loss: 0.128 - ETA: 3:24 - loss: 0.128 - ETA: 3:18 - loss: 0.129 - ETA: 3:14 - loss: 0.129 - ETA: 3:04 - loss: 0.130 - ETA: 2:58 - loss: 0.131 - ETA: 2:52 - loss: 0.132 - ETA: 2:46 - loss: 0.131 - ETA: 2:38 - loss: 0.131 - ETA: 2:32 - loss: 0.131 - ETA: 2:23 - loss: 0.132 - ETA: 2:17 - loss: 0.131 - ETA: 2:11 - loss: 0.131 - ETA: 2:05 - loss: 0.131 - ETA: 1:58 - loss: 0.131 - ETA: 1:51 - loss: 0.131 - ETA: 1:45 - loss: 0.131 - ETA: 1:39 - loss: 0.132 - ETA: 1:32 - loss: 0.132 - ETA: 1:26 - loss: 0.132 - ETA: 1:19 - loss: 0.131 - ETA: 1:12 - loss: 0.131 - ETA: 1:05 - loss: 0.131 - ETA: 59s - loss: 0.130 - ETA: 53s - loss: 0.13 - ETA: 46s - loss: 0.13 - ETA: 39s - loss: 0.12 - ETA: 32s - loss: 0.13 - ETA: 25s - loss: 0.12 - ETA: 19s - loss: 0.12 - ETA: 13s - loss: 0.12 - ETA: 6s - loss: 0.1292 - ETA: 0s - loss: 0.129 - 293s 203ms/step - loss: 0.1290\n",
      "Epoch 42/70\n",
      "1441/1441 [==============================] - ETA: 5:35 - loss: 0.110 - ETA: 5:28 - loss: 0.117 - ETA: 5:17 - loss: 0.117 - ETA: 5:11 - loss: 0.124 - ETA: 5:01 - loss: 0.129 - ETA: 4:52 - loss: 0.123 - ETA: 4:23 - loss: 0.122 - ETA: 4:17 - loss: 0.117 - ETA: 4:11 - loss: 0.120 - ETA: 4:05 - loss: 0.118 - ETA: 3:49 - loss: 0.118 - ETA: 3:41 - loss: 0.119 - ETA: 3:37 - loss: 0.120 - ETA: 3:29 - loss: 0.119 - ETA: 3:21 - loss: 0.117 - ETA: 3:11 - loss: 0.119 - ETA: 3:04 - loss: 0.120 - ETA: 2:58 - loss: 0.121 - ETA: 2:52 - loss: 0.121 - ETA: 2:46 - loss: 0.123 - ETA: 2:40 - loss: 0.123 - ETA: 2:35 - loss: 0.122 - ETA: 2:29 - loss: 0.123 - ETA: 2:23 - loss: 0.124 - ETA: 2:16 - loss: 0.123 - ETA: 2:10 - loss: 0.122 - ETA: 2:02 - loss: 0.122 - ETA: 1:55 - loss: 0.122 - ETA: 1:49 - loss: 0.122 - ETA: 1:42 - loss: 0.122 - ETA: 1:36 - loss: 0.122 - ETA: 1:29 - loss: 0.121 - ETA: 1:22 - loss: 0.121 - ETA: 1:15 - loss: 0.120 - ETA: 1:08 - loss: 0.120 - ETA: 1:01 - loss: 0.120 - ETA: 55s - loss: 0.120 - ETA: 47s - loss: 0.11 - ETA: 41s - loss: 0.11 - ETA: 34s - loss: 0.12 - ETA: 27s - loss: 0.12 - ETA: 20s - loss: 0.11 - ETA: 13s - loss: 0.11 - ETA: 6s - loss: 0.1192 - ETA: 0s - loss: 0.118 - 310s 215ms/step - loss: 0.1187\n",
      "Epoch 43/70\n"
     ]
    },
    {
     "name": "stdout",
     "output_type": "stream",
     "text": [
      "1441/1441 [==============================] - ETA: 5:24 - loss: 0.127 - ETA: 5:23 - loss: 0.108 - ETA: 5:06 - loss: 0.106 - ETA: 4:57 - loss: 0.106 - ETA: 4:46 - loss: 0.110 - ETA: 4:40 - loss: 0.113 - ETA: 4:31 - loss: 0.113 - ETA: 4:07 - loss: 0.114 - ETA: 4:02 - loss: 0.112 - ETA: 3:58 - loss: 0.110 - ETA: 3:54 - loss: 0.108 - ETA: 3:38 - loss: 0.109 - ETA: 3:33 - loss: 0.109 - ETA: 3:27 - loss: 0.111 - ETA: 3:21 - loss: 0.111 - ETA: 3:08 - loss: 0.110 - ETA: 3:02 - loss: 0.111 - ETA: 2:57 - loss: 0.111 - ETA: 2:51 - loss: 0.112 - ETA: 2:46 - loss: 0.111 - ETA: 2:35 - loss: 0.110 - ETA: 2:30 - loss: 0.111 - ETA: 2:24 - loss: 0.110 - ETA: 2:18 - loss: 0.109 - ETA: 2:12 - loss: 0.110 - ETA: 2:07 - loss: 0.109 - ETA: 2:00 - loss: 0.109 - ETA: 1:54 - loss: 0.109 - ETA: 1:48 - loss: 0.108 - ETA: 1:41 - loss: 0.108 - ETA: 1:35 - loss: 0.108 - ETA: 1:26 - loss: 0.108 - ETA: 1:20 - loss: 0.108 - ETA: 1:14 - loss: 0.108 - ETA: 1:07 - loss: 0.108 - ETA: 1:01 - loss: 0.109 - ETA: 54s - loss: 0.109 - ETA: 47s - loss: 0.10 - ETA: 41s - loss: 0.10 - ETA: 34s - loss: 0.10 - ETA: 27s - loss: 0.11 - ETA: 20s - loss: 0.10 - ETA: 13s - loss: 0.10 - ETA: 6s - loss: 0.1099 - ETA: 0s - loss: 0.110 - 306s 213ms/step - loss: 0.1101\n",
      "Epoch 44/70\n",
      "1441/1441 [==============================] - ETA: 5:20 - loss: 0.115 - ETA: 5:23 - loss: 0.112 - ETA: 5:16 - loss: 0.108 - ETA: 5:08 - loss: 0.115 - ETA: 5:00 - loss: 0.117 - ETA: 4:27 - loss: 0.121 - ETA: 4:23 - loss: 0.121 - ETA: 4:19 - loss: 0.119 - ETA: 4:13 - loss: 0.118 - ETA: 4:06 - loss: 0.119 - ETA: 4:00 - loss: 0.117 - ETA: 3:52 - loss: 0.117 - ETA: 3:45 - loss: 0.119 - ETA: 3:40 - loss: 0.119 - ETA: 3:33 - loss: 0.117 - ETA: 3:23 - loss: 0.117 - ETA: 3:16 - loss: 0.117 - ETA: 3:10 - loss: 0.116 - ETA: 3:01 - loss: 0.117 - ETA: 2:55 - loss: 0.117 - ETA: 2:48 - loss: 0.121 - ETA: 2:42 - loss: 0.120 - ETA: 2:35 - loss: 0.120 - ETA: 2:28 - loss: 0.118 - ETA: 2:21 - loss: 0.119 - ETA: 2:13 - loss: 0.120 - ETA: 2:05 - loss: 0.122 - ETA: 1:58 - loss: 0.122 - ETA: 1:50 - loss: 0.122 - ETA: 1:43 - loss: 0.122 - ETA: 1:36 - loss: 0.121 - ETA: 1:29 - loss: 0.120 - ETA: 1:23 - loss: 0.120 - ETA: 1:16 - loss: 0.120 - ETA: 1:09 - loss: 0.120 - ETA: 1:02 - loss: 0.120 - ETA: 55s - loss: 0.120 - ETA: 49s - loss: 0.12 - ETA: 42s - loss: 0.12 - ETA: 35s - loss: 0.12 - ETA: 28s - loss: 0.12 - ETA: 21s - loss: 0.12 - ETA: 14s - loss: 0.12 - ETA: 7s - loss: 0.1207 - ETA: 0s - loss: 0.120 - 319s 221ms/step - loss: 0.1208\n",
      "Epoch 45/70\n",
      "1441/1441 [==============================] - ETA: 5:13 - loss: 0.117 - ETA: 4:43 - loss: 0.115 - ETA: 4:43 - loss: 0.111 - ETA: 4:44 - loss: 0.109 - ETA: 4:13 - loss: 0.109 - ETA: 4:09 - loss: 0.109 - ETA: 3:49 - loss: 0.111 - ETA: 3:44 - loss: 0.116 - ETA: 3:45 - loss: 0.117 - ETA: 3:43 - loss: 0.119 - ETA: 3:39 - loss: 0.118 - ETA: 3:33 - loss: 0.116 - ETA: 3:30 - loss: 0.116 - ETA: 3:25 - loss: 0.115 - ETA: 3:14 - loss: 0.114 - ETA: 3:08 - loss: 0.113 - ETA: 3:03 - loss: 0.112 - ETA: 2:58 - loss: 0.113 - ETA: 2:50 - loss: 0.114 - ETA: 2:44 - loss: 0.112 - ETA: 2:37 - loss: 0.111 - ETA: 2:31 - loss: 0.111 - ETA: 2:25 - loss: 0.110 - ETA: 2:18 - loss: 0.110 - ETA: 2:11 - loss: 0.110 - ETA: 2:04 - loss: 0.111 - ETA: 1:58 - loss: 0.112 - ETA: 1:52 - loss: 0.113 - ETA: 1:44 - loss: 0.114 - ETA: 1:38 - loss: 0.114 - ETA: 1:32 - loss: 0.113 - ETA: 1:26 - loss: 0.113 - ETA: 1:19 - loss: 0.113 - ETA: 1:13 - loss: 0.113 - ETA: 1:06 - loss: 0.113 - ETA: 59s - loss: 0.113 - ETA: 53s - loss: 0.11 - ETA: 46s - loss: 0.11 - ETA: 39s - loss: 0.11 - ETA: 33s - loss: 0.11 - ETA: 26s - loss: 0.11 - ETA: 20s - loss: 0.11 - ETA: 13s - loss: 0.11 - ETA: 6s - loss: 0.1132 - ETA: 0s - loss: 0.113 - 307s 213ms/step - loss: 0.1130\n",
      "Epoch 46/70\n",
      "1441/1441 [==============================] - ETA: 5:26 - loss: 0.106 - ETA: 5:23 - loss: 0.110 - ETA: 5:07 - loss: 0.108 - ETA: 4:53 - loss: 0.109 - ETA: 4:52 - loss: 0.103 - ETA: 4:19 - loss: 0.103 - ETA: 4:17 - loss: 0.103 - ETA: 4:13 - loss: 0.104 - ETA: 4:07 - loss: 0.104 - ETA: 4:02 - loss: 0.101 - ETA: 3:55 - loss: 0.101 - ETA: 3:50 - loss: 0.100 - ETA: 3:44 - loss: 0.099 - ETA: 3:37 - loss: 0.101 - ETA: 3:30 - loss: 0.099 - ETA: 3:24 - loss: 0.099 - ETA: 3:12 - loss: 0.099 - ETA: 3:06 - loss: 0.099 - ETA: 3:01 - loss: 0.099 - ETA: 2:54 - loss: 0.099 - ETA: 2:48 - loss: 0.098 - ETA: 2:41 - loss: 0.099 - ETA: 2:33 - loss: 0.098 - ETA: 2:26 - loss: 0.099 - ETA: 2:19 - loss: 0.099 - ETA: 2:12 - loss: 0.101 - ETA: 2:05 - loss: 0.101 - ETA: 1:58 - loss: 0.100 - ETA: 1:50 - loss: 0.100 - ETA: 1:43 - loss: 0.100 - ETA: 1:36 - loss: 0.100 - ETA: 1:30 - loss: 0.100 - ETA: 1:23 - loss: 0.100 - ETA: 1:16 - loss: 0.100 - ETA: 1:10 - loss: 0.100 - ETA: 1:03 - loss: 0.100 - ETA: 56s - loss: 0.100 - ETA: 48s - loss: 0.10 - ETA: 41s - loss: 0.10 - ETA: 34s - loss: 0.10 - ETA: 28s - loss: 0.10 - ETA: 21s - loss: 0.10 - ETA: 14s - loss: 0.10 - ETA: 7s - loss: 0.1001 - ETA: 0s - loss: 0.100 - 320s 222ms/step - loss: 0.1002\n",
      "Epoch 47/70\n",
      "1441/1441 [==============================] - ETA: 5:20 - loss: 0.103 - ETA: 5:19 - loss: 0.094 - ETA: 5:13 - loss: 0.095 - ETA: 5:02 - loss: 0.092 - ETA: 4:58 - loss: 0.091 - ETA: 4:48 - loss: 0.097 - ETA: 4:39 - loss: 0.097 - ETA: 4:32 - loss: 0.096 - ETA: 4:09 - loss: 0.097 - ETA: 4:03 - loss: 0.098 - ETA: 3:57 - loss: 0.099 - ETA: 3:51 - loss: 0.099 - ETA: 3:44 - loss: 0.100 - ETA: 3:31 - loss: 0.099 - ETA: 3:23 - loss: 0.098 - ETA: 3:18 - loss: 0.099 - ETA: 3:13 - loss: 0.100 - ETA: 3:06 - loss: 0.101 - ETA: 2:59 - loss: 0.100 - ETA: 2:52 - loss: 0.100 - ETA: 2:46 - loss: 0.099 - ETA: 2:40 - loss: 0.100 - ETA: 2:33 - loss: 0.100 - ETA: 2:26 - loss: 0.100 - ETA: 2:19 - loss: 0.100 - ETA: 2:13 - loss: 0.099 - ETA: 2:06 - loss: 0.099 - ETA: 1:59 - loss: 0.099 - ETA: 1:51 - loss: 0.099 - ETA: 1:44 - loss: 0.099 - ETA: 1:37 - loss: 0.099 - ETA: 1:31 - loss: 0.099 - ETA: 1:24 - loss: 0.099 - ETA: 1:17 - loss: 0.099 - ETA: 1:09 - loss: 0.099 - ETA: 1:02 - loss: 0.099 - ETA: 55s - loss: 0.100 - ETA: 48s - loss: 0.10 - ETA: 41s - loss: 0.09 - ETA: 34s - loss: 0.09 - ETA: 27s - loss: 0.09 - ETA: 20s - loss: 0.09 - ETA: 13s - loss: 0.09 - ETA: 7s - loss: 0.0993 - ETA: 0s - loss: 0.099 - 313s 217ms/step - loss: 0.0993\n",
      "Epoch 48/70\n",
      "1441/1441 [==============================] - ETA: 5:39 - loss: 0.077 - ETA: 5:11 - loss: 0.081 - ETA: 5:09 - loss: 0.079 - ETA: 4:57 - loss: 0.085 - ETA: 4:46 - loss: 0.087 - ETA: 4:38 - loss: 0.087 - ETA: 4:31 - loss: 0.090 - ETA: 4:26 - loss: 0.090 - ETA: 4:19 - loss: 0.091 - ETA: 4:14 - loss: 0.091 - ETA: 4:06 - loss: 0.091 - ETA: 3:57 - loss: 0.090 - ETA: 3:50 - loss: 0.090 - ETA: 3:44 - loss: 0.090 - ETA: 3:37 - loss: 0.089 - ETA: 3:23 - loss: 0.088 - ETA: 3:16 - loss: 0.087 - ETA: 3:09 - loss: 0.088 - ETA: 3:00 - loss: 0.088 - ETA: 2:52 - loss: 0.088 - ETA: 2:46 - loss: 0.088 - ETA: 2:40 - loss: 0.089 - ETA: 2:34 - loss: 0.090 - ETA: 2:27 - loss: 0.089 - ETA: 2:20 - loss: 0.089 - ETA: 2:13 - loss: 0.089 - ETA: 2:06 - loss: 0.089 - ETA: 1:57 - loss: 0.089 - ETA: 1:50 - loss: 0.089 - ETA: 1:43 - loss: 0.088 - ETA: 1:35 - loss: 0.088 - ETA: 1:29 - loss: 0.088 - ETA: 1:22 - loss: 0.088 - ETA: 1:15 - loss: 0.088 - ETA: 1:09 - loss: 0.088 - ETA: 1:01 - loss: 0.088 - ETA: 54s - loss: 0.088 - ETA: 48s - loss: 0.08 - ETA: 41s - loss: 0.08 - ETA: 34s - loss: 0.08 - ETA: 27s - loss: 0.08 - ETA: 20s - loss: 0.08 - ETA: 14s - loss: 0.08 - ETA: 7s - loss: 0.0879 - ETA: 0s - loss: 0.088 - 312s 217ms/step - loss: 0.0882\n",
      "Epoch 49/70\n"
     ]
    },
    {
     "name": "stdout",
     "output_type": "stream",
     "text": [
      "1441/1441 [==============================] - ETA: 5:02 - loss: 0.084 - ETA: 4:59 - loss: 0.073 - ETA: 4:14 - loss: 0.074 - ETA: 4:16 - loss: 0.078 - ETA: 4:15 - loss: 0.077 - ETA: 4:17 - loss: 0.078 - ETA: 4:02 - loss: 0.078 - ETA: 4:00 - loss: 0.079 - ETA: 3:58 - loss: 0.079 - ETA: 3:38 - loss: 0.079 - ETA: 3:30 - loss: 0.079 - ETA: 3:24 - loss: 0.078 - ETA: 3:22 - loss: 0.078 - ETA: 3:16 - loss: 0.078 - ETA: 3:11 - loss: 0.078 - ETA: 2:59 - loss: 0.079 - ETA: 2:54 - loss: 0.079 - ETA: 2:49 - loss: 0.079 - ETA: 2:44 - loss: 0.079 - ETA: 2:39 - loss: 0.080 - ETA: 2:30 - loss: 0.080 - ETA: 2:24 - loss: 0.080 - ETA: 2:19 - loss: 0.080 - ETA: 2:13 - loss: 0.080 - ETA: 2:07 - loss: 0.080 - ETA: 2:02 - loss: 0.080 - ETA: 1:56 - loss: 0.080 - ETA: 1:49 - loss: 0.079 - ETA: 1:43 - loss: 0.079 - ETA: 1:37 - loss: 0.079 - ETA: 1:31 - loss: 0.079 - ETA: 1:25 - loss: 0.079 - ETA: 1:19 - loss: 0.079 - ETA: 1:12 - loss: 0.079 - ETA: 1:06 - loss: 0.079 - ETA: 59s - loss: 0.079 - ETA: 52s - loss: 0.07 - ETA: 45s - loss: 0.07 - ETA: 39s - loss: 0.07 - ETA: 32s - loss: 0.07 - ETA: 26s - loss: 0.08 - ETA: 19s - loss: 0.08 - ETA: 13s - loss: 0.08 - ETA: 6s - loss: 0.0799 - ETA: 0s - loss: 0.080 - 299s 208ms/step - loss: 0.0801\n",
      "Epoch 50/70\n",
      "1441/1441 [==============================] - ETA: 5:30 - loss: 0.065 - ETA: 5:19 - loss: 0.073 - ETA: 5:15 - loss: 0.074 - ETA: 5:06 - loss: 0.076 - ETA: 4:59 - loss: 0.074 - ETA: 4:50 - loss: 0.071 - ETA: 4:35 - loss: 0.072 - ETA: 4:29 - loss: 0.072 - ETA: 4:19 - loss: 0.073 - ETA: 4:11 - loss: 0.074 - ETA: 4:06 - loss: 0.075 - ETA: 3:59 - loss: 0.075 - ETA: 3:53 - loss: 0.074 - ETA: 3:45 - loss: 0.075 - ETA: 3:39 - loss: 0.074 - ETA: 3:31 - loss: 0.075 - ETA: 3:24 - loss: 0.075 - ETA: 3:14 - loss: 0.075 - ETA: 3:07 - loss: 0.074 - ETA: 3:00 - loss: 0.074 - ETA: 2:53 - loss: 0.074 - ETA: 2:46 - loss: 0.074 - ETA: 2:38 - loss: 0.074 - ETA: 2:30 - loss: 0.074 - ETA: 2:23 - loss: 0.074 - ETA: 2:16 - loss: 0.075 - ETA: 2:09 - loss: 0.075 - ETA: 2:02 - loss: 0.074 - ETA: 1:54 - loss: 0.074 - ETA: 1:46 - loss: 0.074 - ETA: 1:39 - loss: 0.074 - ETA: 1:32 - loss: 0.075 - ETA: 1:25 - loss: 0.075 - ETA: 1:18 - loss: 0.075 - ETA: 1:10 - loss: 0.075 - ETA: 1:03 - loss: 0.075 - ETA: 56s - loss: 0.075 - ETA: 49s - loss: 0.07 - ETA: 42s - loss: 0.07 - ETA: 35s - loss: 0.07 - ETA: 28s - loss: 0.07 - ETA: 21s - loss: 0.07 - ETA: 14s - loss: 0.07 - ETA: 7s - loss: 0.0755 - ETA: 0s - loss: 0.075 - 315s 219ms/step - loss: 0.0755\n",
      "Epoch 51/70\n",
      "1441/1441 [==============================] - ETA: 5:37 - loss: 0.068 - ETA: 5:21 - loss: 0.063 - ETA: 5:12 - loss: 0.066 - ETA: 5:03 - loss: 0.071 - ETA: 4:55 - loss: 0.070 - ETA: 4:48 - loss: 0.071 - ETA: 4:41 - loss: 0.072 - ETA: 4:33 - loss: 0.073 - ETA: 4:27 - loss: 0.074 - ETA: 4:17 - loss: 0.073 - ETA: 4:10 - loss: 0.072 - ETA: 4:04 - loss: 0.072 - ETA: 3:58 - loss: 0.072 - ETA: 3:51 - loss: 0.072 - ETA: 3:44 - loss: 0.072 - ETA: 3:34 - loss: 0.071 - ETA: 3:27 - loss: 0.072 - ETA: 3:18 - loss: 0.072 - ETA: 3:06 - loss: 0.072 - ETA: 2:58 - loss: 0.072 - ETA: 2:46 - loss: 0.072 - ETA: 2:39 - loss: 0.072 - ETA: 2:32 - loss: 0.072 - ETA: 2:26 - loss: 0.072 - ETA: 2:16 - loss: 0.072 - ETA: 2:09 - loss: 0.071 - ETA: 2:00 - loss: 0.071 - ETA: 1:54 - loss: 0.071 - ETA: 1:46 - loss: 0.071 - ETA: 1:39 - loss: 0.071 - ETA: 1:33 - loss: 0.072 - ETA: 1:26 - loss: 0.072 - ETA: 1:20 - loss: 0.072 - ETA: 1:14 - loss: 0.072 - ETA: 1:07 - loss: 0.072 - ETA: 1:00 - loss: 0.072 - ETA: 54s - loss: 0.071 - ETA: 46s - loss: 0.07 - ETA: 40s - loss: 0.07 - ETA: 33s - loss: 0.07 - ETA: 27s - loss: 0.07 - ETA: 20s - loss: 0.07 - ETA: 13s - loss: 0.07 - ETA: 6s - loss: 0.0732 - ETA: 0s - loss: 0.073 - 309s 215ms/step - loss: 0.0732\n",
      "Epoch 52/70\n",
      "1441/1441 [==============================] - ETA: 5:57 - loss: 0.057 - ETA: 5:23 - loss: 0.063 - ETA: 5:09 - loss: 0.061 - ETA: 4:54 - loss: 0.062 - ETA: 4:46 - loss: 0.065 - ETA: 4:34 - loss: 0.068 - ETA: 4:27 - loss: 0.067 - ETA: 4:22 - loss: 0.069 - ETA: 4:15 - loss: 0.071 - ETA: 4:10 - loss: 0.071 - ETA: 4:03 - loss: 0.071 - ETA: 3:57 - loss: 0.073 - ETA: 3:51 - loss: 0.074 - ETA: 3:44 - loss: 0.073 - ETA: 3:36 - loss: 0.074 - ETA: 3:29 - loss: 0.073 - ETA: 3:22 - loss: 0.074 - ETA: 3:16 - loss: 0.073 - ETA: 3:09 - loss: 0.073 - ETA: 3:03 - loss: 0.073 - ETA: 2:56 - loss: 0.073 - ETA: 2:49 - loss: 0.072 - ETA: 2:41 - loss: 0.073 - ETA: 2:31 - loss: 0.073 - ETA: 2:24 - loss: 0.073 - ETA: 2:15 - loss: 0.073 - ETA: 2:08 - loss: 0.074 - ETA: 2:01 - loss: 0.074 - ETA: 1:53 - loss: 0.074 - ETA: 1:46 - loss: 0.074 - ETA: 1:39 - loss: 0.074 - ETA: 1:31 - loss: 0.073 - ETA: 1:24 - loss: 0.073 - ETA: 1:17 - loss: 0.073 - ETA: 1:10 - loss: 0.073 - ETA: 1:03 - loss: 0.072 - ETA: 56s - loss: 0.073 - ETA: 49s - loss: 0.07 - ETA: 42s - loss: 0.07 - ETA: 35s - loss: 0.07 - ETA: 27s - loss: 0.07 - ETA: 21s - loss: 0.07 - ETA: 14s - loss: 0.07 - ETA: 7s - loss: 0.0739 - ETA: 0s - loss: 0.074 - 318s 221ms/step - loss: 0.0741\n",
      "Epoch 53/70\n",
      "1441/1441 [==============================] - ETA: 4:53 - loss: 0.052 - ETA: 4:50 - loss: 0.064 - ETA: 4:51 - loss: 0.064 - ETA: 4:52 - loss: 0.064 - ETA: 4:43 - loss: 0.062 - ETA: 4:38 - loss: 0.064 - ETA: 4:26 - loss: 0.062 - ETA: 4:18 - loss: 0.062 - ETA: 4:12 - loss: 0.062 - ETA: 4:07 - loss: 0.063 - ETA: 4:00 - loss: 0.063 - ETA: 3:53 - loss: 0.063 - ETA: 3:47 - loss: 0.063 - ETA: 3:40 - loss: 0.064 - ETA: 3:33 - loss: 0.064 - ETA: 3:27 - loss: 0.064 - ETA: 3:20 - loss: 0.064 - ETA: 3:13 - loss: 0.064 - ETA: 3:06 - loss: 0.063 - ETA: 2:59 - loss: 0.064 - ETA: 2:47 - loss: 0.064 - ETA: 2:40 - loss: 0.064 - ETA: 2:34 - loss: 0.065 - ETA: 2:27 - loss: 0.065 - ETA: 2:20 - loss: 0.065 - ETA: 2:13 - loss: 0.065 - ETA: 2:06 - loss: 0.065 - ETA: 1:59 - loss: 0.065 - ETA: 1:51 - loss: 0.065 - ETA: 1:44 - loss: 0.065 - ETA: 1:36 - loss: 0.065 - ETA: 1:30 - loss: 0.066 - ETA: 1:23 - loss: 0.065 - ETA: 1:16 - loss: 0.065 - ETA: 1:08 - loss: 0.065 - ETA: 1:01 - loss: 0.066 - ETA: 54s - loss: 0.066 - ETA: 48s - loss: 0.06 - ETA: 41s - loss: 0.06 - ETA: 34s - loss: 0.06 - ETA: 27s - loss: 0.06 - ETA: 20s - loss: 0.06 - ETA: 13s - loss: 0.06 - ETA: 7s - loss: 0.0670 - ETA: 0s - loss: 0.067 - 315s 219ms/step - loss: 0.0672\n",
      "Epoch 54/70\n",
      "1441/1441 [==============================] - ETA: 5:13 - loss: 0.060 - ETA: 5:17 - loss: 0.063 - ETA: 5:10 - loss: 0.062 - ETA: 4:58 - loss: 0.063 - ETA: 4:15 - loss: 0.063 - ETA: 4:15 - loss: 0.065 - ETA: 4:12 - loss: 0.065 - ETA: 4:08 - loss: 0.065 - ETA: 4:04 - loss: 0.066 - ETA: 4:00 - loss: 0.065 - ETA: 3:51 - loss: 0.066 - ETA: 3:45 - loss: 0.066 - ETA: 3:34 - loss: 0.065 - ETA: 3:27 - loss: 0.065 - ETA: 3:21 - loss: 0.065 - ETA: 3:17 - loss: 0.065 - ETA: 3:11 - loss: 0.066 - ETA: 3:05 - loss: 0.066 - ETA: 2:57 - loss: 0.066 - ETA: 2:50 - loss: 0.066 - ETA: 2:42 - loss: 0.066 - ETA: 2:36 - loss: 0.065 - ETA: 2:29 - loss: 0.065 - ETA: 2:22 - loss: 0.065 - ETA: 2:15 - loss: 0.065 - ETA: 2:09 - loss: 0.066 - ETA: 2:02 - loss: 0.065 - ETA: 1:56 - loss: 0.065 - ETA: 1:49 - loss: 0.066 - ETA: 1:42 - loss: 0.065 - ETA: 1:35 - loss: 0.065 - ETA: 1:28 - loss: 0.065 - ETA: 1:21 - loss: 0.065 - ETA: 1:15 - loss: 0.065 - ETA: 1:08 - loss: 0.065 - ETA: 1:01 - loss: 0.066 - ETA: 55s - loss: 0.066 - ETA: 48s - loss: 0.06 - ETA: 41s - loss: 0.06 - ETA: 34s - loss: 0.06 - ETA: 28s - loss: 0.06 - ETA: 21s - loss: 0.06 - ETA: 14s - loss: 0.06 - ETA: 7s - loss: 0.0661 - ETA: 0s - loss: 0.066 - 322s 223ms/step - loss: 0.0660\n",
      "Epoch 55/70\n"
     ]
    },
    {
     "name": "stdout",
     "output_type": "stream",
     "text": [
      "1441/1441 [==============================] - ETA: 5:27 - loss: 0.063 - ETA: 4:00 - loss: 0.065 - ETA: 4:15 - loss: 0.060 - ETA: 4:20 - loss: 0.061 - ETA: 4:19 - loss: 0.060 - ETA: 3:51 - loss: 0.061 - ETA: 3:52 - loss: 0.060 - ETA: 3:51 - loss: 0.059 - ETA: 3:37 - loss: 0.059 - ETA: 3:34 - loss: 0.060 - ETA: 3:23 - loss: 0.060 - ETA: 3:20 - loss: 0.060 - ETA: 3:17 - loss: 0.060 - ETA: 3:12 - loss: 0.061 - ETA: 3:06 - loss: 0.061 - ETA: 3:03 - loss: 0.060 - ETA: 2:51 - loss: 0.061 - ETA: 2:47 - loss: 0.060 - ETA: 2:43 - loss: 0.060 - ETA: 2:37 - loss: 0.060 - ETA: 2:32 - loss: 0.060 - ETA: 2:27 - loss: 0.060 - ETA: 2:22 - loss: 0.060 - ETA: 2:17 - loss: 0.061 - ETA: 2:08 - loss: 0.061 - ETA: 2:02 - loss: 0.061 - ETA: 1:56 - loss: 0.061 - ETA: 1:50 - loss: 0.060 - ETA: 1:44 - loss: 0.060 - ETA: 1:38 - loss: 0.061 - ETA: 1:31 - loss: 0.060 - ETA: 1:25 - loss: 0.060 - ETA: 1:19 - loss: 0.061 - ETA: 1:12 - loss: 0.061 - ETA: 1:06 - loss: 0.061 - ETA: 1:00 - loss: 0.061 - ETA: 53s - loss: 0.061 - ETA: 47s - loss: 0.06 - ETA: 40s - loss: 0.06 - ETA: 33s - loss: 0.06 - ETA: 26s - loss: 0.06 - ETA: 20s - loss: 0.06 - ETA: 13s - loss: 0.06 - ETA: 6s - loss: 0.0617 - ETA: 0s - loss: 0.061 - 303s 210ms/step - loss: 0.0616\n",
      "Epoch 56/70\n",
      "1441/1441 [==============================] - ETA: 4:29 - loss: 0.055 - ETA: 4:30 - loss: 0.056 - ETA: 4:11 - loss: 0.055 - ETA: 4:12 - loss: 0.056 - ETA: 4:17 - loss: 0.056 - ETA: 4:15 - loss: 0.058 - ETA: 4:05 - loss: 0.059 - ETA: 3:59 - loss: 0.059 - ETA: 3:58 - loss: 0.059 - ETA: 3:52 - loss: 0.059 - ETA: 3:47 - loss: 0.061 - ETA: 3:43 - loss: 0.061 - ETA: 3:38 - loss: 0.061 - ETA: 3:31 - loss: 0.061 - ETA: 3:24 - loss: 0.061 - ETA: 3:19 - loss: 0.062 - ETA: 3:13 - loss: 0.061 - ETA: 3:07 - loss: 0.061 - ETA: 3:01 - loss: 0.062 - ETA: 2:55 - loss: 0.062 - ETA: 2:48 - loss: 0.062 - ETA: 2:42 - loss: 0.063 - ETA: 2:32 - loss: 0.063 - ETA: 2:25 - loss: 0.063 - ETA: 2:16 - loss: 0.063 - ETA: 2:10 - loss: 0.062 - ETA: 2:03 - loss: 0.062 - ETA: 1:56 - loss: 0.062 - ETA: 1:49 - loss: 0.062 - ETA: 1:43 - loss: 0.062 - ETA: 1:36 - loss: 0.062 - ETA: 1:29 - loss: 0.062 - ETA: 1:23 - loss: 0.062 - ETA: 1:16 - loss: 0.062 - ETA: 1:09 - loss: 0.062 - ETA: 1:02 - loss: 0.062 - ETA: 55s - loss: 0.061 - ETA: 48s - loss: 0.06 - ETA: 41s - loss: 0.06 - ETA: 34s - loss: 0.06 - ETA: 27s - loss: 0.06 - ETA: 20s - loss: 0.06 - ETA: 13s - loss: 0.06 - ETA: 6s - loss: 0.0620 - ETA: 0s - loss: 0.061 - 311s 216ms/step - loss: 0.0619\n",
      "Epoch 57/70\n",
      "1441/1441 [==============================] - ETA: 3:57 - loss: 0.059 - ETA: 4:29 - loss: 0.059 - ETA: 4:33 - loss: 0.059 - ETA: 4:32 - loss: 0.060 - ETA: 4:28 - loss: 0.061 - ETA: 4:00 - loss: 0.060 - ETA: 3:58 - loss: 0.062 - ETA: 3:57 - loss: 0.061 - ETA: 3:39 - loss: 0.060 - ETA: 3:38 - loss: 0.062 - ETA: 3:33 - loss: 0.063 - ETA: 3:30 - loss: 0.063 - ETA: 3:25 - loss: 0.064 - ETA: 3:20 - loss: 0.063 - ETA: 3:13 - loss: 0.063 - ETA: 3:09 - loss: 0.062 - ETA: 2:56 - loss: 0.062 - ETA: 2:50 - loss: 0.062 - ETA: 2:45 - loss: 0.062 - ETA: 2:40 - loss: 0.061 - ETA: 2:35 - loss: 0.061 - ETA: 2:28 - loss: 0.061 - ETA: 2:19 - loss: 0.061 - ETA: 2:13 - loss: 0.061 - ETA: 2:08 - loss: 0.061 - ETA: 2:02 - loss: 0.060 - ETA: 1:56 - loss: 0.060 - ETA: 1:50 - loss: 0.060 - ETA: 1:42 - loss: 0.060 - ETA: 1:36 - loss: 0.060 - ETA: 1:30 - loss: 0.060 - ETA: 1:22 - loss: 0.060 - ETA: 1:16 - loss: 0.060 - ETA: 1:09 - loss: 0.060 - ETA: 1:02 - loss: 0.060 - ETA: 56s - loss: 0.059 - ETA: 50s - loss: 0.06 - ETA: 44s - loss: 0.05 - ETA: 37s - loss: 0.05 - ETA: 31s - loss: 0.05 - ETA: 25s - loss: 0.05 - ETA: 19s - loss: 0.05 - ETA: 12s - loss: 0.05 - ETA: 6s - loss: 0.0594 - ETA: 0s - loss: 0.059 - 290s 202ms/step - loss: 0.0594\n",
      "Epoch 58/70\n",
      "1441/1441 [==============================] - ETA: 3:17 - loss: 0.052 - ETA: 4:10 - loss: 0.053 - ETA: 3:29 - loss: 0.053 - ETA: 3:43 - loss: 0.051 - ETA: 3:46 - loss: 0.050 - ETA: 3:49 - loss: 0.050 - ETA: 3:55 - loss: 0.050 - ETA: 3:55 - loss: 0.050 - ETA: 3:53 - loss: 0.051 - ETA: 3:39 - loss: 0.051 - ETA: 3:37 - loss: 0.051 - ETA: 3:32 - loss: 0.051 - ETA: 3:19 - loss: 0.051 - ETA: 3:15 - loss: 0.051 - ETA: 3:04 - loss: 0.051 - ETA: 3:00 - loss: 0.052 - ETA: 2:57 - loss: 0.052 - ETA: 2:51 - loss: 0.052 - ETA: 2:40 - loss: 0.052 - ETA: 2:34 - loss: 0.052 - ETA: 2:24 - loss: 0.052 - ETA: 2:19 - loss: 0.052 - ETA: 2:14 - loss: 0.051 - ETA: 2:09 - loss: 0.051 - ETA: 2:04 - loss: 0.052 - ETA: 1:56 - loss: 0.052 - ETA: 1:49 - loss: 0.052 - ETA: 1:44 - loss: 0.052 - ETA: 1:36 - loss: 0.052 - ETA: 1:31 - loss: 0.052 - ETA: 1:23 - loss: 0.052 - ETA: 1:18 - loss: 0.052 - ETA: 1:13 - loss: 0.051 - ETA: 1:07 - loss: 0.052 - ETA: 1:01 - loss: 0.052 - ETA: 56s - loss: 0.052 - ETA: 49s - loss: 0.05 - ETA: 43s - loss: 0.05 - ETA: 37s - loss: 0.05 - ETA: 31s - loss: 0.05 - ETA: 25s - loss: 0.05 - ETA: 19s - loss: 0.05 - ETA: 12s - loss: 0.05 - ETA: 6s - loss: 0.0522 - ETA: 0s - loss: 0.052 - 291s 202ms/step - loss: 0.0521\n",
      "Epoch 59/70\n",
      "1441/1441 [==============================] - ETA: 5:00 - loss: 0.050 - ETA: 3:53 - loss: 0.051 - ETA: 4:10 - loss: 0.053 - ETA: 4:16 - loss: 0.052 - ETA: 4:15 - loss: 0.051 - ETA: 4:14 - loss: 0.051 - ETA: 4:09 - loss: 0.052 - ETA: 4:06 - loss: 0.052 - ETA: 3:59 - loss: 0.052 - ETA: 3:54 - loss: 0.052 - ETA: 3:46 - loss: 0.051 - ETA: 3:40 - loss: 0.051 - ETA: 3:35 - loss: 0.051 - ETA: 3:30 - loss: 0.051 - ETA: 3:17 - loss: 0.051 - ETA: 3:10 - loss: 0.052 - ETA: 2:59 - loss: 0.051 - ETA: 2:53 - loss: 0.052 - ETA: 2:43 - loss: 0.052 - ETA: 2:38 - loss: 0.052 - ETA: 2:33 - loss: 0.052 - ETA: 2:23 - loss: 0.052 - ETA: 2:18 - loss: 0.052 - ETA: 2:12 - loss: 0.052 - ETA: 2:04 - loss: 0.052 - ETA: 1:58 - loss: 0.052 - ETA: 1:53 - loss: 0.052 - ETA: 1:47 - loss: 0.052 - ETA: 1:42 - loss: 0.052 - ETA: 1:34 - loss: 0.052 - ETA: 1:28 - loss: 0.051 - ETA: 1:22 - loss: 0.051 - ETA: 1:16 - loss: 0.051 - ETA: 1:09 - loss: 0.051 - ETA: 1:03 - loss: 0.051 - ETA: 57s - loss: 0.051 - ETA: 50s - loss: 0.05 - ETA: 44s - loss: 0.05 - ETA: 38s - loss: 0.05 - ETA: 32s - loss: 0.05 - ETA: 25s - loss: 0.05 - ETA: 19s - loss: 0.05 - ETA: 13s - loss: 0.05 - ETA: 6s - loss: 0.0513 - ETA: 0s - loss: 0.051 - 296s 205ms/step - loss: 0.0512\n",
      "Epoch 60/70\n",
      "1441/1441 [==============================] - ETA: 5:26 - loss: 0.041 - ETA: 5:16 - loss: 0.044 - ETA: 5:03 - loss: 0.045 - ETA: 4:50 - loss: 0.044 - ETA: 4:27 - loss: 0.045 - ETA: 4:25 - loss: 0.045 - ETA: 3:59 - loss: 0.045 - ETA: 3:54 - loss: 0.045 - ETA: 3:52 - loss: 0.045 - ETA: 3:46 - loss: 0.046 - ETA: 3:42 - loss: 0.047 - ETA: 3:37 - loss: 0.047 - ETA: 3:33 - loss: 0.047 - ETA: 3:27 - loss: 0.048 - ETA: 3:17 - loss: 0.048 - ETA: 3:11 - loss: 0.048 - ETA: 3:05 - loss: 0.048 - ETA: 2:59 - loss: 0.048 - ETA: 2:54 - loss: 0.048 - ETA: 2:48 - loss: 0.048 - ETA: 2:42 - loss: 0.048 - ETA: 2:36 - loss: 0.048 - ETA: 2:29 - loss: 0.048 - ETA: 2:22 - loss: 0.048 - ETA: 2:12 - loss: 0.048 - ETA: 2:06 - loss: 0.048 - ETA: 1:59 - loss: 0.049 - ETA: 1:51 - loss: 0.049 - ETA: 1:45 - loss: 0.048 - ETA: 1:38 - loss: 0.048 - ETA: 1:32 - loss: 0.049 - ETA: 1:26 - loss: 0.049 - ETA: 1:19 - loss: 0.048 - ETA: 1:12 - loss: 0.048 - ETA: 1:05 - loss: 0.048 - ETA: 59s - loss: 0.048 - ETA: 53s - loss: 0.04 - ETA: 46s - loss: 0.04 - ETA: 39s - loss: 0.04 - ETA: 32s - loss: 0.04 - ETA: 26s - loss: 0.04 - ETA: 19s - loss: 0.04 - ETA: 13s - loss: 0.04 - ETA: 6s - loss: 0.0489 - ETA: 0s - loss: 0.048 - 303s 210ms/step - loss: 0.0489\n",
      "Epoch 61/70\n"
     ]
    },
    {
     "name": "stdout",
     "output_type": "stream",
     "text": [
      "1441/1441 [==============================] - ETA: 4:41 - loss: 0.038 - ETA: 5:02 - loss: 0.039 - ETA: 4:31 - loss: 0.041 - ETA: 4:33 - loss: 0.041 - ETA: 4:21 - loss: 0.042 - ETA: 4:19 - loss: 0.042 - ETA: 4:20 - loss: 0.044 - ETA: 4:09 - loss: 0.044 - ETA: 4:04 - loss: 0.044 - ETA: 3:43 - loss: 0.044 - ETA: 3:40 - loss: 0.044 - ETA: 3:36 - loss: 0.044 - ETA: 3:32 - loss: 0.044 - ETA: 3:16 - loss: 0.044 - ETA: 3:12 - loss: 0.044 - ETA: 3:07 - loss: 0.044 - ETA: 3:02 - loss: 0.044 - ETA: 2:57 - loss: 0.045 - ETA: 2:52 - loss: 0.045 - ETA: 2:46 - loss: 0.045 - ETA: 2:40 - loss: 0.045 - ETA: 2:33 - loss: 0.044 - ETA: 2:28 - loss: 0.044 - ETA: 2:22 - loss: 0.044 - ETA: 2:15 - loss: 0.044 - ETA: 2:09 - loss: 0.044 - ETA: 2:03 - loss: 0.044 - ETA: 1:57 - loss: 0.044 - ETA: 1:50 - loss: 0.044 - ETA: 1:43 - loss: 0.044 - ETA: 1:37 - loss: 0.044 - ETA: 1:28 - loss: 0.044 - ETA: 1:22 - loss: 0.044 - ETA: 1:14 - loss: 0.044 - ETA: 1:07 - loss: 0.044 - ETA: 1:01 - loss: 0.044 - ETA: 54s - loss: 0.044 - ETA: 47s - loss: 0.04 - ETA: 40s - loss: 0.04 - ETA: 33s - loss: 0.04 - ETA: 27s - loss: 0.04 - ETA: 20s - loss: 0.04 - ETA: 13s - loss: 0.04 - ETA: 7s - loss: 0.0450 - ETA: 0s - loss: 0.044 - 313s 217ms/step - loss: 0.0449\n",
      "Epoch 62/70\n",
      "1441/1441 [==============================] - ETA: 5:02 - loss: 0.046 - ETA: 5:04 - loss: 0.045 - ETA: 5:05 - loss: 0.043 - ETA: 4:15 - loss: 0.042 - ETA: 4:19 - loss: 0.041 - ETA: 4:19 - loss: 0.041 - ETA: 4:17 - loss: 0.041 - ETA: 4:11 - loss: 0.040 - ETA: 4:00 - loss: 0.040 - ETA: 3:52 - loss: 0.041 - ETA: 3:37 - loss: 0.042 - ETA: 3:33 - loss: 0.042 - ETA: 3:29 - loss: 0.042 - ETA: 3:22 - loss: 0.042 - ETA: 3:17 - loss: 0.042 - ETA: 3:12 - loss: 0.042 - ETA: 3:06 - loss: 0.041 - ETA: 2:58 - loss: 0.041 - ETA: 2:53 - loss: 0.041 - ETA: 2:46 - loss: 0.041 - ETA: 2:41 - loss: 0.041 - ETA: 2:34 - loss: 0.041 - ETA: 2:28 - loss: 0.041 - ETA: 2:21 - loss: 0.041 - ETA: 2:14 - loss: 0.041 - ETA: 2:08 - loss: 0.041 - ETA: 2:01 - loss: 0.041 - ETA: 1:55 - loss: 0.041 - ETA: 1:48 - loss: 0.041 - ETA: 1:42 - loss: 0.041 - ETA: 1:35 - loss: 0.041 - ETA: 1:28 - loss: 0.041 - ETA: 1:22 - loss: 0.041 - ETA: 1:15 - loss: 0.041 - ETA: 1:08 - loss: 0.041 - ETA: 1:01 - loss: 0.041 - ETA: 54s - loss: 0.041 - ETA: 47s - loss: 0.04 - ETA: 40s - loss: 0.04 - ETA: 33s - loss: 0.04 - ETA: 27s - loss: 0.04 - ETA: 20s - loss: 0.04 - ETA: 13s - loss: 0.04 - ETA: 6s - loss: 0.0422 - ETA: 0s - loss: 0.042 - 306s 212ms/step - loss: 0.0422\n",
      "Epoch 63/70\n",
      "1441/1441 [==============================] - ETA: 4:45 - loss: 0.042 - ETA: 5:07 - loss: 0.039 - ETA: 5:05 - loss: 0.040 - ETA: 4:58 - loss: 0.040 - ETA: 4:54 - loss: 0.041 - ETA: 4:45 - loss: 0.041 - ETA: 4:40 - loss: 0.042 - ETA: 4:35 - loss: 0.041 - ETA: 4:27 - loss: 0.041 - ETA: 4:09 - loss: 0.042 - ETA: 4:02 - loss: 0.042 - ETA: 3:56 - loss: 0.041 - ETA: 3:46 - loss: 0.041 - ETA: 3:39 - loss: 0.041 - ETA: 3:33 - loss: 0.042 - ETA: 3:26 - loss: 0.041 - ETA: 3:20 - loss: 0.042 - ETA: 3:13 - loss: 0.042 - ETA: 3:06 - loss: 0.042 - ETA: 2:58 - loss: 0.042 - ETA: 2:51 - loss: 0.042 - ETA: 2:43 - loss: 0.042 - ETA: 2:36 - loss: 0.042 - ETA: 2:29 - loss: 0.042 - ETA: 2:20 - loss: 0.042 - ETA: 2:13 - loss: 0.043 - ETA: 2:04 - loss: 0.042 - ETA: 1:57 - loss: 0.042 - ETA: 1:50 - loss: 0.042 - ETA: 1:44 - loss: 0.042 - ETA: 1:36 - loss: 0.042 - ETA: 1:29 - loss: 0.042 - ETA: 1:23 - loss: 0.042 - ETA: 1:16 - loss: 0.042 - ETA: 1:08 - loss: 0.042 - ETA: 1:01 - loss: 0.042 - ETA: 54s - loss: 0.042 - ETA: 47s - loss: 0.04 - ETA: 40s - loss: 0.04 - ETA: 34s - loss: 0.04 - ETA: 27s - loss: 0.04 - ETA: 20s - loss: 0.04 - ETA: 13s - loss: 0.04 - ETA: 7s - loss: 0.0424 - ETA: 0s - loss: 0.042 - 310s 215ms/step - loss: 0.0424\n",
      "Epoch 64/70\n",
      "1441/1441 [==============================] - ETA: 5:32 - loss: 0.039 - ETA: 5:22 - loss: 0.038 - ETA: 4:35 - loss: 0.037 - ETA: 4:35 - loss: 0.040 - ETA: 4:35 - loss: 0.040 - ETA: 4:35 - loss: 0.040 - ETA: 4:27 - loss: 0.040 - ETA: 4:09 - loss: 0.040 - ETA: 4:03 - loss: 0.041 - ETA: 3:58 - loss: 0.041 - ETA: 3:53 - loss: 0.041 - ETA: 3:35 - loss: 0.041 - ETA: 3:30 - loss: 0.041 - ETA: 3:25 - loss: 0.041 - ETA: 3:11 - loss: 0.041 - ETA: 3:06 - loss: 0.041 - ETA: 3:01 - loss: 0.041 - ETA: 2:56 - loss: 0.040 - ETA: 2:51 - loss: 0.040 - ETA: 2:45 - loss: 0.041 - ETA: 2:39 - loss: 0.040 - ETA: 2:33 - loss: 0.040 - ETA: 2:27 - loss: 0.040 - ETA: 2:21 - loss: 0.041 - ETA: 2:12 - loss: 0.041 - ETA: 2:06 - loss: 0.041 - ETA: 2:00 - loss: 0.041 - ETA: 1:51 - loss: 0.041 - ETA: 1:45 - loss: 0.041 - ETA: 1:39 - loss: 0.041 - ETA: 1:32 - loss: 0.042 - ETA: 1:26 - loss: 0.041 - ETA: 1:18 - loss: 0.041 - ETA: 1:12 - loss: 0.041 - ETA: 1:05 - loss: 0.041 - ETA: 59s - loss: 0.041 - ETA: 52s - loss: 0.04 - ETA: 46s - loss: 0.04 - ETA: 39s - loss: 0.04 - ETA: 33s - loss: 0.04 - ETA: 26s - loss: 0.04 - ETA: 20s - loss: 0.04 - ETA: 13s - loss: 0.04 - ETA: 6s - loss: 0.0416 - ETA: 0s - loss: 0.041 - 306s 212ms/step - loss: 0.0417\n",
      "Epoch 65/70\n",
      "1441/1441 [==============================] - ETA: 4:18 - loss: 0.037 - ETA: 4:44 - loss: 0.039 - ETA: 4:41 - loss: 0.042 - ETA: 3:58 - loss: 0.041 - ETA: 4:02 - loss: 0.042 - ETA: 4:02 - loss: 0.041 - ETA: 3:59 - loss: 0.042 - ETA: 3:39 - loss: 0.042 - ETA: 3:36 - loss: 0.042 - ETA: 3:35 - loss: 0.042 - ETA: 3:32 - loss: 0.042 - ETA: 3:28 - loss: 0.042 - ETA: 3:22 - loss: 0.042 - ETA: 3:17 - loss: 0.042 - ETA: 3:09 - loss: 0.042 - ETA: 3:03 - loss: 0.042 - ETA: 2:58 - loss: 0.042 - ETA: 2:47 - loss: 0.042 - ETA: 2:42 - loss: 0.042 - ETA: 2:32 - loss: 0.042 - ETA: 2:27 - loss: 0.042 - ETA: 2:22 - loss: 0.042 - ETA: 2:17 - loss: 0.042 - ETA: 2:11 - loss: 0.042 - ETA: 2:06 - loss: 0.041 - ETA: 2:00 - loss: 0.041 - ETA: 1:54 - loss: 0.041 - ETA: 1:48 - loss: 0.041 - ETA: 1:42 - loss: 0.041 - ETA: 1:36 - loss: 0.041 - ETA: 1:30 - loss: 0.041 - ETA: 1:24 - loss: 0.041 - ETA: 1:16 - loss: 0.041 - ETA: 1:10 - loss: 0.041 - ETA: 1:04 - loss: 0.041 - ETA: 57s - loss: 0.041 - ETA: 51s - loss: 0.04 - ETA: 45s - loss: 0.04 - ETA: 39s - loss: 0.04 - ETA: 32s - loss: 0.04 - ETA: 25s - loss: 0.04 - ETA: 19s - loss: 0.04 - ETA: 13s - loss: 0.04 - ETA: 6s - loss: 0.0404 - ETA: 0s - loss: 0.040 - 291s 202ms/step - loss: 0.0404\n",
      "Epoch 66/70\n",
      "1441/1441 [==============================] - ETA: 5:08 - loss: 0.037 - ETA: 5:03 - loss: 0.036 - ETA: 4:03 - loss: 0.035 - ETA: 3:59 - loss: 0.037 - ETA: 4:10 - loss: 0.036 - ETA: 4:09 - loss: 0.037 - ETA: 3:43 - loss: 0.038 - ETA: 3:47 - loss: 0.038 - ETA: 3:48 - loss: 0.038 - ETA: 3:45 - loss: 0.038 - ETA: 3:41 - loss: 0.039 - ETA: 3:34 - loss: 0.039 - ETA: 3:30 - loss: 0.039 - ETA: 3:15 - loss: 0.039 - ETA: 3:09 - loss: 0.039 - ETA: 3:05 - loss: 0.039 - ETA: 2:59 - loss: 0.039 - ETA: 2:54 - loss: 0.039 - ETA: 2:46 - loss: 0.039 - ETA: 2:41 - loss: 0.039 - ETA: 2:36 - loss: 0.040 - ETA: 2:31 - loss: 0.040 - ETA: 2:21 - loss: 0.040 - ETA: 2:15 - loss: 0.040 - ETA: 2:10 - loss: 0.040 - ETA: 2:01 - loss: 0.040 - ETA: 1:55 - loss: 0.040 - ETA: 1:47 - loss: 0.040 - ETA: 1:41 - loss: 0.040 - ETA: 1:35 - loss: 0.040 - ETA: 1:29 - loss: 0.040 - ETA: 1:23 - loss: 0.040 - ETA: 1:17 - loss: 0.040 - ETA: 1:10 - loss: 0.040 - ETA: 1:04 - loss: 0.040 - ETA: 57s - loss: 0.040 - ETA: 51s - loss: 0.04 - ETA: 45s - loss: 0.04 - ETA: 38s - loss: 0.04 - ETA: 32s - loss: 0.04 - ETA: 26s - loss: 0.04 - ETA: 19s - loss: 0.04 - ETA: 13s - loss: 0.04 - ETA: 6s - loss: 0.0405 - ETA: 0s - loss: 0.040 - 299s 207ms/step - loss: 0.0405\n",
      "Epoch 67/70\n"
     ]
    },
    {
     "name": "stdout",
     "output_type": "stream",
     "text": [
      "1441/1441 [==============================] - ETA: 4:06 - loss: 0.037 - ETA: 4:33 - loss: 0.038 - ETA: 4:44 - loss: 0.038 - ETA: 4:46 - loss: 0.037 - ETA: 4:45 - loss: 0.038 - ETA: 4:40 - loss: 0.038 - ETA: 4:31 - loss: 0.037 - ETA: 4:27 - loss: 0.037 - ETA: 4:16 - loss: 0.037 - ETA: 4:08 - loss: 0.038 - ETA: 4:03 - loss: 0.038 - ETA: 3:54 - loss: 0.038 - ETA: 3:47 - loss: 0.039 - ETA: 3:41 - loss: 0.039 - ETA: 3:26 - loss: 0.039 - ETA: 3:20 - loss: 0.039 - ETA: 3:14 - loss: 0.039 - ETA: 3:08 - loss: 0.039 - ETA: 3:02 - loss: 0.039 - ETA: 2:54 - loss: 0.039 - ETA: 2:47 - loss: 0.038 - ETA: 2:40 - loss: 0.038 - ETA: 2:34 - loss: 0.038 - ETA: 2:27 - loss: 0.038 - ETA: 2:21 - loss: 0.038 - ETA: 2:14 - loss: 0.038 - ETA: 2:06 - loss: 0.038 - ETA: 2:00 - loss: 0.038 - ETA: 1:53 - loss: 0.038 - ETA: 1:46 - loss: 0.038 - ETA: 1:39 - loss: 0.038 - ETA: 1:31 - loss: 0.038 - ETA: 1:24 - loss: 0.038 - ETA: 1:17 - loss: 0.038 - ETA: 1:10 - loss: 0.038 - ETA: 1:03 - loss: 0.038 - ETA: 56s - loss: 0.038 - ETA: 49s - loss: 0.03 - ETA: 42s - loss: 0.03 - ETA: 35s - loss: 0.03 - ETA: 27s - loss: 0.03 - ETA: 20s - loss: 0.03 - ETA: 14s - loss: 0.03 - ETA: 7s - loss: 0.0380 - ETA: 0s - loss: 0.038 - 316s 220ms/step - loss: 0.0382\n",
      "Epoch 68/70\n",
      "1441/1441 [==============================] - ETA: 5:33 - loss: 0.038 - ETA: 4:27 - loss: 0.040 - ETA: 4:38 - loss: 0.042 - ETA: 4:40 - loss: 0.040 - ETA: 4:37 - loss: 0.041 - ETA: 4:34 - loss: 0.041 - ETA: 4:05 - loss: 0.040 - ETA: 4:00 - loss: 0.041 - ETA: 3:59 - loss: 0.041 - ETA: 3:55 - loss: 0.041 - ETA: 3:40 - loss: 0.043 - ETA: 3:34 - loss: 0.043 - ETA: 3:30 - loss: 0.042 - ETA: 3:24 - loss: 0.042 - ETA: 3:13 - loss: 0.042 - ETA: 3:08 - loss: 0.042 - ETA: 3:02 - loss: 0.042 - ETA: 2:57 - loss: 0.042 - ETA: 2:51 - loss: 0.042 - ETA: 2:45 - loss: 0.042 - ETA: 2:40 - loss: 0.042 - ETA: 2:34 - loss: 0.042 - ETA: 2:27 - loss: 0.041 - ETA: 2:21 - loss: 0.041 - ETA: 2:15 - loss: 0.041 - ETA: 2:09 - loss: 0.041 - ETA: 2:02 - loss: 0.041 - ETA: 1:55 - loss: 0.042 - ETA: 1:49 - loss: 0.042 - ETA: 1:42 - loss: 0.042 - ETA: 1:35 - loss: 0.042 - ETA: 1:29 - loss: 0.041 - ETA: 1:23 - loss: 0.041 - ETA: 1:16 - loss: 0.041 - ETA: 1:09 - loss: 0.041 - ETA: 1:02 - loss: 0.041 - ETA: 55s - loss: 0.041 - ETA: 48s - loss: 0.04 - ETA: 41s - loss: 0.04 - ETA: 34s - loss: 0.04 - ETA: 27s - loss: 0.04 - ETA: 20s - loss: 0.04 - ETA: 13s - loss: 0.04 - ETA: 7s - loss: 0.0413 - ETA: 0s - loss: 0.041 - 313s 217ms/step - loss: 0.0412\n",
      "Epoch 69/70\n",
      "1441/1441 [==============================] - ETA: 5:26 - loss: 0.033 - ETA: 4:57 - loss: 0.034 - ETA: 4:58 - loss: 0.035 - ETA: 4:48 - loss: 0.036 - ETA: 4:44 - loss: 0.037 - ETA: 4:37 - loss: 0.037 - ETA: 4:30 - loss: 0.037 - ETA: 4:24 - loss: 0.037 - ETA: 4:15 - loss: 0.038 - ETA: 4:09 - loss: 0.038 - ETA: 4:03 - loss: 0.039 - ETA: 3:57 - loss: 0.039 - ETA: 3:51 - loss: 0.040 - ETA: 3:40 - loss: 0.040 - ETA: 3:33 - loss: 0.039 - ETA: 3:26 - loss: 0.040 - ETA: 3:15 - loss: 0.040 - ETA: 3:07 - loss: 0.040 - ETA: 3:02 - loss: 0.040 - ETA: 2:55 - loss: 0.040 - ETA: 2:45 - loss: 0.040 - ETA: 2:39 - loss: 0.039 - ETA: 2:32 - loss: 0.040 - ETA: 2:24 - loss: 0.039 - ETA: 2:16 - loss: 0.040 - ETA: 2:09 - loss: 0.040 - ETA: 2:02 - loss: 0.040 - ETA: 1:56 - loss: 0.040 - ETA: 1:49 - loss: 0.039 - ETA: 1:42 - loss: 0.039 - ETA: 1:35 - loss: 0.039 - ETA: 1:28 - loss: 0.039 - ETA: 1:22 - loss: 0.039 - ETA: 1:14 - loss: 0.039 - ETA: 1:08 - loss: 0.039 - ETA: 1:01 - loss: 0.039 - ETA: 54s - loss: 0.039 - ETA: 47s - loss: 0.03 - ETA: 41s - loss: 0.03 - ETA: 34s - loss: 0.03 - ETA: 27s - loss: 0.03 - ETA: 20s - loss: 0.03 - ETA: 13s - loss: 0.03 - ETA: 7s - loss: 0.0393 - ETA: 0s - loss: 0.039 - 314s 218ms/step - loss: 0.0392\n",
      "Epoch 70/70\n",
      "1441/1441 [==============================] - ETA: 5:32 - loss: 0.036 - ETA: 5:14 - loss: 0.035 - ETA: 4:58 - loss: 0.035 - ETA: 4:47 - loss: 0.035 - ETA: 4:46 - loss: 0.035 - ETA: 4:38 - loss: 0.036 - ETA: 4:31 - loss: 0.037 - ETA: 4:21 - loss: 0.036 - ETA: 4:13 - loss: 0.036 - ETA: 4:07 - loss: 0.036 - ETA: 3:52 - loss: 0.036 - ETA: 3:45 - loss: 0.036 - ETA: 3:36 - loss: 0.036 - ETA: 3:28 - loss: 0.036 - ETA: 3:22 - loss: 0.036 - ETA: 3:17 - loss: 0.036 - ETA: 3:11 - loss: 0.036 - ETA: 3:05 - loss: 0.037 - ETA: 2:59 - loss: 0.036 - ETA: 2:52 - loss: 0.036 - ETA: 2:46 - loss: 0.036 - ETA: 2:40 - loss: 0.036 - ETA: 2:33 - loss: 0.036 - ETA: 2:26 - loss: 0.037 - ETA: 2:20 - loss: 0.036 - ETA: 2:10 - loss: 0.037 - ETA: 2:04 - loss: 0.037 - ETA: 1:57 - loss: 0.037 - ETA: 1:50 - loss: 0.037 - ETA: 1:43 - loss: 0.037 - ETA: 1:36 - loss: 0.037 - ETA: 1:29 - loss: 0.037 - ETA: 1:22 - loss: 0.037 - ETA: 1:15 - loss: 0.037 - ETA: 1:08 - loss: 0.036 - ETA: 1:02 - loss: 0.036 - ETA: 55s - loss: 0.036 - ETA: 48s - loss: 0.03 - ETA: 41s - loss: 0.03 - ETA: 35s - loss: 0.03 - ETA: 28s - loss: 0.03 - ETA: 21s - loss: 0.03 - ETA: 14s - loss: 0.03 - ETA: 7s - loss: 0.0367 - ETA: 0s - loss: 0.036 - 316s 219ms/step - loss: 0.0367\n",
      "[*] Ready to be used \n",
      "\n",
      "\n"
     ]
    }
   ],
   "source": [
    "# Run training\n",
    "model.compile(optimizer='adam', loss='categorical_crossentropy')\n",
    "\n",
    "training = True\n",
    "\n",
    "print('[*] Starting Training')\n",
    "if training:\n",
    "    model.fit([encoder_input_data, decoder_input_data], decoder_target_data,\n",
    "              batch_size=batch_size,\n",
    "              epochs=epochs,\n",
    "              #validation_split=0.1 - TODO: fix overfitting or not?\n",
    "             )\n",
    "else:\n",
    "    model.load_weights('s2s'+'edm'+'.h5')\n",
    "print('[*] Ready to be used \\n\\n')"
   ]
  },
  {
   "cell_type": "code",
   "execution_count": 5,
   "metadata": {},
   "outputs": [
    {
     "name": "stderr",
     "output_type": "stream",
     "text": [
      "C:\\Users\\Damygame\\Anaconda3\\envs\\tensorflow\\lib\\site-packages\\keras\\engine\\topology.py:2344: UserWarning: Layer lstm_2 was passed non-serializable keyword arguments: {'initial_state': [<tf.Tensor 'lstm_1/while/Exit_2:0' shape=(?, 1024) dtype=float32>, <tf.Tensor 'lstm_1/while/Exit_3:0' shape=(?, 1024) dtype=float32>]}. They will not be included in the serialized model (and thus will be missing at deserialization time).\n",
      "  str(node.arguments) + '. They will not be included '\n"
     ]
    }
   ],
   "source": [
    "# Save model\n",
    "model.save('s2s'+'edm'+'.h5')"
   ]
  },
  {
   "cell_type": "code",
   "execution_count": 72,
   "metadata": {},
   "outputs": [
    {
     "name": "stderr",
     "output_type": "stream",
     "text": [
      "C:\\Users\\Damygame\\Anaconda3\\envs\\tensorflow\\lib\\site-packages\\midi-0.2.3-py3.6.egg\\midi\\fileio.py:68: Warning: Unknown Meta MIDI Event: 9\n",
      "  warn(\"Unknown Meta MIDI Event: \" + repr(cmd), Warning)\n",
      "C:\\Users\\Damygame\\Anaconda3\\envs\\tensorflow\\lib\\site-packages\\midi-0.2.3-py3.6.egg\\midi\\fileio.py:68: Warning: Unknown Meta MIDI Event: 10\n",
      "  warn(\"Unknown Meta MIDI Event: \" + repr(cmd), Warning)\n"
     ]
    },
    {
     "name": "stdout",
     "output_type": "stream",
     "text": [
      "(1969, 156)\n"
     ]
    }
   ],
   "source": [
    "# song = np.array(midi_manipulation.midiToNoteStateMatrix('./data/BigPackMIDI_EDM/block1/' + song_name))\n",
    "\n",
    "# print(song.shape)\n",
    "# midi_manipulation.noteStateMatrixToMidi(song[100:200], 'test'+song_name)"
   ]
  },
  {
   "cell_type": "code",
   "execution_count": 6,
   "metadata": {
    "collapsed": true
   },
   "outputs": [],
   "source": [
    "# Next: inference mode (sampling).\n",
    "# Here's the drill:\n",
    "# 1) encode input and retrieve initial decoder state\n",
    "# 2) run one step of decoder with this initial state\n",
    "# and a \"start of sequence\" token as target.\n",
    "# Output will be the next target token\n",
    "# 3) Repeat with the current target token and current states\n",
    "\n",
    "# Define sampling models\n",
    "encoder_model = Model(encoder_inputs, encoder_states)\n",
    "\n",
    "decoder_state_input_h = Input(shape=(latent_dim,))\n",
    "decoder_state_input_c = Input(shape=(latent_dim,))\n",
    "decoder_states_inputs = [decoder_state_input_h, decoder_state_input_c]\n",
    "decoder_outputs, state_h, state_c = decoder_lstm(\n",
    "    decoder_inputs, initial_state=decoder_states_inputs)\n",
    "decoder_states = [state_h, state_c]\n",
    "decoder_outputs = decoder_dense(decoder_outputs)\n",
    "decoder_model = Model(\n",
    "    [decoder_inputs] + decoder_states_inputs,\n",
    "    [decoder_outputs] + decoder_states)\n",
    "\n",
    "\n",
    "# Next: inference mode (sampling).\n",
    "# Here's the drill:\n",
    "# 1) encode input and retrieve initial decoder state\n",
    "# 2) run one step of decoder with this initial state\n",
    "# and a \"start of sequence\" token as target.\n",
    "# Output will be the next target token\n",
    "# 3) Repeat with the current target token and current states\n",
    "\n",
    "# Define sampling models\n",
    "encoder_model = Model(encoder_inputs, encoder_states)\n",
    "\n",
    "decoder_state_input_h = Input(shape=(latent_dim,))\n",
    "decoder_state_input_c = Input(shape=(latent_dim,))\n",
    "decoder_states_inputs = [decoder_state_input_h, decoder_state_input_c]\n",
    "decoder_outputs, state_h, state_c = decoder_lstm(\n",
    "    decoder_inputs, initial_state=decoder_states_inputs)\n",
    "decoder_states = [state_h, state_c]\n",
    "decoder_outputs = decoder_dense(decoder_outputs)\n",
    "decoder_model = Model(\n",
    "    [decoder_inputs] + decoder_states_inputs,\n",
    "    [decoder_outputs] + decoder_states)"
   ]
  },
  {
   "cell_type": "code",
   "execution_count": 8,
   "metadata": {},
   "outputs": [
    {
     "name": "stderr",
     "output_type": "stream",
     "text": [
      "C:\\Users\\Damygame\\Anaconda3\\envs\\tensorflow\\lib\\site-packages\\midi-0.2.3-py3.6.egg\\midi\\fileio.py:68: Warning: Unknown Meta MIDI Event: 9\n",
      "C:\\Users\\Damygame\\Anaconda3\\envs\\tensorflow\\lib\\site-packages\\midi-0.2.3-py3.6.egg\\midi\\fileio.py:68: Warning: Unknown Meta MIDI Event: 10\n"
     ]
    },
    {
     "name": "stdout",
     "output_type": "stream",
     "text": [
      "(32, 60, 156)\n",
      "Processing embed: 0/32\n",
      "[*] Encoding-Decoding\n",
      "(2, 31, 1024)\n",
      "[iter:0] [max_decoder_seq_length: 60]\n",
      "(2, 1, 1024)\n",
      "[iter:0] [max_decoder_seq_length: 60]\n",
      "[*] Converting and saving song\n"
     ]
    }
   ],
   "source": [
    "def decode_sequence(input_seq):\n",
    "    # Encode the input as state vectors.\n",
    "    states_value = encoder_model.predict(input_seq)\n",
    "    print(np.array(states_value).shape)\n",
    "    # Generate empty target sequence of length 1.\n",
    "    target_seq = np.zeros((1, 1, num_decoder_tokens))\n",
    "    # Populate the first character of target sequence with the start character.\n",
    "    target_seq[0, 0, 0] = 1.\n",
    "\n",
    "    # Sampling loop for a batch of sequences\n",
    "    # (to simplify, here we assume a batch of size 1).\n",
    "    stop_condition = False\n",
    "    song_matrix = np.zeros(\n",
    "                        (max_decoder_seq_length, \n",
    "                        num_decoder_tokens),\n",
    "                        dtype='float32')\n",
    "    i = 0\n",
    "    while not stop_condition:\n",
    "        output_tokens, h, c = decoder_model.predict(\n",
    "            [target_seq] + states_value)\n",
    "\n",
    "        # Sample a token\n",
    "        target_seq = np.zeros((1, 1, num_decoder_tokens))\n",
    "        idx = np.argmax(output_tokens[-1,-1,:])\n",
    "        #print(output_tokens[-1,-1,:])\n",
    "        song_matrix[i, idx] = 1\n",
    "        target_seq[0, 0, idx] = 1.\n",
    "        #print(np.array(h).shape)\n",
    "        # Exit condition: either hit max length\n",
    "        # or find stop character.\n",
    "        if (i+2 > max_decoder_seq_length):\n",
    "            stop_condition = True\n",
    "\n",
    "        # Update the target sequence (of length 1).\n",
    "        \n",
    "        \n",
    "\n",
    "        if i%250 == 0:\n",
    "            print('[iter:{}] [max_decoder_seq_length: {}]'.format(i, max_decoder_seq_length))\n",
    "        i+=1\n",
    "\n",
    "        # Update states\n",
    "        states_value = [h, c]\n",
    "\n",
    "    return song_matrix\n",
    "\n",
    "\n",
    "seq_length = max_encoder_seq_length\n",
    "song_name = 'Idina-Menzel-Let-It-Go-Anonymous-20140127194031-nonstop2k.com' + '.mid'\n",
    "song = np.array(midi_manipulation.midiToNoteStateMatrix('./data/BigPackMIDI_EDM/block1/' + song_name))\n",
    "\n",
    "\n",
    "encoder_input_data = []\n",
    "if np.array(song).shape[0] > 50:   \n",
    "    length = np.array(song).shape[0]\n",
    "    for j in range(length // seq_length):\n",
    "        encoder_input_data.append(song[seq_length*j:seq_length*(j+1)])\n",
    "print(np.array(encoder_input_data).shape)        \n",
    "        \n",
    "#encoder_input_data = get_embeded_songs(encoder_input_data, tokens, num_encoder_tokens)                                                       \n",
    "encoder_input_data1 = []\n",
    "for i, song in enumerate(encoder_input_data):\n",
    "    if(i%50==0):\n",
    "        print('Processing embed: {}/{}'.format(i,np.array(encoder_input_data).shape[0]))\n",
    "    embed_song = []\n",
    "    for i, state in enumerate(song):\n",
    "        idx = state_to_token(state, tokens)\n",
    "        embed = np.zeros(num_encoder_tokens)\n",
    "        embed[idx] = 1\n",
    "        embed_song.append(embed)\n",
    "    encoder_input_data1.append(embed_song)\n",
    "\n",
    "# Take one sequence (part of the training test)\n",
    "# for trying out decoding.\n",
    "print('[*] Encoding-Decoding')\n",
    "input_seq = encoder_input_data1[:-1]\n",
    "\n",
    "decoded_songs = []\n",
    "decoded_songs.append(decode_sequence(np.array(encoder_input_data1[:-1])))\n",
    "for i in range(1):\n",
    "    decoded_songs.append(decode_sequence((\n",
    "                    np.reshape(decoded_songs[-1], \n",
    "                        (1, decoded_songs[-1].shape[0], decoded_songs[-1].shape[1])))))\n",
    "\n",
    "\n",
    "decoded_song = embed_song_to_song(np.concatenate(decoded_songs, axis = 0), tokens)\n",
    "\n",
    "# Converting Song to midi from matrix\n",
    "print('[*] Converting and saving song')\n",
    "midi_manipulation.noteStateMatrixToMidi(decoded_song, 'edm_'+song_name)"
   ]
  },
  {
   "cell_type": "code",
   "execution_count": 67,
   "metadata": {
    "collapsed": true
   },
   "outputs": [],
   "source": [
    "midi_manipulation.noteStateMatrixToMidi(decoded_song, 'edm_'+song_name)"
   ]
  },
  {
   "cell_type": "code",
   "execution_count": 15,
   "metadata": {},
   "outputs": [
    {
     "data": {
      "text/plain": [
       "2937"
      ]
     },
     "execution_count": 15,
     "metadata": {},
     "output_type": "execute_result"
    }
   ],
   "source": [
    "np.sum(decoded_song)"
   ]
  },
  {
   "cell_type": "code",
   "execution_count": 134,
   "metadata": {},
   "outputs": [
    {
     "name": "stdout",
     "output_type": "stream",
     "text": [
      "Processing embed: 0/3\n",
      "[*] Encoding-Decoding\n",
      "Processing embed: 0/3\n",
      "[*] Encoding-Decoding\n",
      "[iter:0] [max_decoder_seq_length: 20]\n",
      "(2, 1, 512)\n",
      "[iter:0] [max_decoder_seq_length: 20]\n",
      "(2, 1, 512)\n",
      "[iter:0] [max_decoder_seq_length: 20]\n",
      "[*] Converting and saving song\n"
     ]
    }
   ],
   "source": [
    "def mixing_sequence(input_seq1, input_seq2, ratio = (2, 2)):\n",
    "    # Encode the input as state vectors.\n",
    "    states_value2 = encoder_model.predict(input_seq1)\n",
    "    states_value = encoder_model.predict(input_seq2)\n",
    "    \n",
    "    for i, states1 in enumerate(states_value):\n",
    "        for j, states2 in enumerate(states1):\n",
    "            for k, states3 in enumerate(states2):\n",
    "                states_value[i][j][k] = (states3*ratio[0] + states_value2[i][j][k]*ratio[1])/2\n",
    "        \n",
    "            \n",
    "    target_seq = np.zeros((1, 1, num_decoder_tokens))\n",
    "    # Populate the first character of target sequence with the start character.\n",
    "    target_seq[0, 0, 0] = 1.\n",
    "\n",
    "    # Sampling loop for a batch of sequences\n",
    "    # (to simplify, here we assume a batch of size 1).\n",
    "    stop_condition = False\n",
    "    song_matrix = np.zeros(\n",
    "                        (max_decoder_seq_length, \n",
    "                        num_decoder_tokens),\n",
    "                        dtype='float32')\n",
    "    i = 0\n",
    "    while not stop_condition:\n",
    "        output_tokens, h, c = decoder_model.predict(\n",
    "            [target_seq] + states_value)\n",
    "\n",
    "        # Sample a token\n",
    "        target_seq = np.zeros((1, 1, num_decoder_tokens))\n",
    "        idx = np.argmax(output_tokens[-1,-1,:])\n",
    "        #print(output_tokens[-1,-1,:])\n",
    "        song_matrix[i, idx] = 1\n",
    "        target_seq[0, 0, idx] = 1.\n",
    "        #print(np.array(h).shape)\n",
    "        # Exit condition: either hit max length\n",
    "        # or find stop character.\n",
    "        if (i+2 > max_decoder_seq_length):\n",
    "            stop_condition = True\n",
    "\n",
    "        # Update the target sequence (of length 1).\n",
    "        \n",
    "        \n",
    "\n",
    "        if i%250 == 0:\n",
    "            print('[iter:{}] [max_decoder_seq_length: {}]'.format(i, max_decoder_seq_length))\n",
    "        i+=1\n",
    "\n",
    "        # Update states\n",
    "        states_value = [h, c]\n",
    "\n",
    "\n",
    "    return song_matrix\n",
    "\n",
    "seq_length = max_encoder_seq_length\n",
    "\n",
    "song = np.array(midi_manipulation.midiToNoteStateMatrix('./data/edm_essential_melodies/Ralph Cowell EDM Essential Melodies MIDI Vol. 1 - 6.mid'))\n",
    "\n",
    "encoder_input_data = []\n",
    "if np.array(song).shape[0] > 50:   \n",
    "    length = np.array(song).shape[0]\n",
    "    for j in range(length // seq_length):\n",
    "        encoder_input_data.append(song[seq_length*j:seq_length*(j+1)])\n",
    "        \n",
    "        \n",
    "#encoder_input_data = get_embeded_songs(encoder_input_data, tokens, num_encoder_tokens)                                                       \n",
    "encoder_input_data1 = []\n",
    "for i, song in enumerate(encoder_input_data):\n",
    "    if(i%50==0):\n",
    "        print('Processing embed: {}/{}'.format(i,np.array(encoder_input_data).shape[0]))\n",
    "    embed_song = []\n",
    "    for i, state in enumerate(song):\n",
    "        idx = state_to_token(state, tokens)\n",
    "        embed = np.zeros(num_encoder_tokens)\n",
    "        embed[idx] = 1\n",
    "        embed_song.append(embed)\n",
    "    encoder_input_data1.append(embed_song)\n",
    "\n",
    "# Take one sequence (part of the training test)\n",
    "# for trying out decoding.\n",
    "print('[*] Encoding-Decoding')\n",
    "input_seq1 = encoder_input_data1[:-1]\n",
    "\n",
    "\n",
    "song = np.array(midi_manipulation.midiToNoteStateMatrix('./data/edm_essential_melodies/Ralph Cowell EDM Essential Melodies MIDI Vol. 2 - 10.mid'))\n",
    "\n",
    "encoder_input_data = []\n",
    "if np.array(song).shape[0] > 50:   \n",
    "    length = np.array(song).shape[0]\n",
    "    for j in range(length // seq_length):\n",
    "        encoder_input_data.append(song[seq_length*j:seq_length*(j+1)])\n",
    "        \n",
    "        \n",
    "#encoder_input_data = get_embeded_songs(encoder_input_data, tokens, num_encoder_tokens)                                                       \n",
    "encoder_input_data1 = []\n",
    "for i, song in enumerate(encoder_input_data):\n",
    "    if(i%50==0):\n",
    "        print('Processing embed: {}/{}'.format(i,np.array(encoder_input_data).shape[0]))\n",
    "    embed_song = []\n",
    "    for i, state in enumerate(song):\n",
    "        idx = state_to_token(state, tokens)\n",
    "        embed = np.zeros(num_encoder_tokens)\n",
    "        embed[idx] = 1\n",
    "        embed_song.append(embed)\n",
    "    encoder_input_data1.append(embed_song)\n",
    "    \n",
    "# Take one sequence (part of the training test)\n",
    "# for trying out decoding.\n",
    "print('[*] Encoding-Decoding')\n",
    "input_seq2 = encoder_input_data1[:-1]\n",
    "\n",
    "decoded_songs = []\n",
    "decoded_songs.append(mixing_sequence(input_seq1, input_seq2))\n",
    "for i in range(2):\n",
    "    decoded_songs.append(decode_sequence((\n",
    "                    np.reshape(decoded_songs[-1], \n",
    "                        (1, decoded_songs[-1].shape[0], decoded_songs[-1].shape[1])))))\n",
    "\n",
    "\n",
    "decoded_song = embed_song_to_song(np.concatenate(decoded_songs, axis = 0), tokens)\n",
    "edm+=1\n",
    "# Converting Song to midi from matrix\n",
    "print('[*] Converting and saving song')\n",
    "midi_manipulation.noteStateMatrixToMidi(decoded_song, 'mixing_edm'+str(edm))"
   ]
  },
  {
   "cell_type": "code",
   "execution_count": null,
   "metadata": {
    "collapsed": true
   },
   "outputs": [],
   "source": [
    "np.zeros((1,1,1,11432)) + np.zeros((2,1,1024)).tolist()"
   ]
  },
  {
   "cell_type": "code",
   "execution_count": null,
   "metadata": {
    "collapsed": true
   },
   "outputs": [],
   "source": []
  },
  {
   "cell_type": "code",
   "execution_count": null,
   "metadata": {
    "collapsed": true
   },
   "outputs": [],
   "source": []
  }
 ],
 "metadata": {
  "kernelspec": {
   "display_name": "tensorflow",
   "language": "python",
   "name": "tensorflow"
  },
  "language_info": {
   "codemirror_mode": {
    "name": "ipython",
    "version": 3
   },
   "file_extension": ".py",
   "mimetype": "text/x-python",
   "name": "python",
   "nbconvert_exporter": "python",
   "pygments_lexer": "ipython3",
   "version": "3.6.3"
  }
 },
 "nbformat": 4,
 "nbformat_minor": 2
}

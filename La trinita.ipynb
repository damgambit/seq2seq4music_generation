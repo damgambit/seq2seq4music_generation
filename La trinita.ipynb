{
 "cells": [
  {
   "cell_type": "code",
   "execution_count": 1,
   "metadata": {},
   "outputs": [
    {
     "name": "stderr",
     "output_type": "stream",
     "text": [
      "Using TensorFlow backend.\n"
     ]
    },
    {
     "name": "stdout",
     "output_type": "stream",
     "text": [
      "\n",
      "TensorFlow Version: 1.1.0\n",
      "\n",
      "Default GPU Device: /gpu:0\n",
      "\n",
      "\n",
      "\n",
      "[*] Converting songs to matrix\n"
     ]
    },
    {
     "name": "stderr",
     "output_type": "stream",
     "text": [
      " 97%|███████████████████████████████████████████████████████████████████████████████████████████████████████████████████████████████████████████████████████████████████████████████████████████████████████████████████████████████████████████████████████████████▋       | 175/180 [00:31<00:00,  5.62it/s]"
     ]
    },
    {
     "name": "stdout",
     "output_type": "stream",
     "text": [
      "[*] Converted 176 songs to matrix\n",
      "\n",
      "\n",
      "\n",
      "Number of samples: 141\n",
      "Number of unique input tokens: 156\n",
      "Number of unique output tokens: 156\n",
      "Max sequence length for inputs: 500\n",
      "Max sequence length for outputs: 500\n",
      "\n",
      "Encoder input data shape: (141, 500, 156)\n",
      "Decoder input data shape: (141, 500, 156)\n",
      "Decoder target data shape: (141, 500, 156)\n",
      "\n"
     ]
    }
   ],
   "source": [
    "import numpy as np\n",
    "import tensorflow as tf\n",
    "import pandas as pd\n",
    "from tqdm import tqdm\n",
    "import midi_manipulation\n",
    "from keras.models import Model\n",
    "from keras.layers import Input, LSTM, Dense\n",
    "\n",
    "from utils import *\n",
    "\n",
    "tf.reset_default_graph()\n",
    "tf_checks()\n",
    "\n",
    "\n",
    "# Get Input Song Matrixes and Target Song Matrixes\n",
    "input_songs, target_songs = get_song_matrixes('./blues', 176, 500)\n",
    "\n",
    "\n",
    "# Finding the longest song in the dataset\n",
    "# Finding the number of tokens in the songs (usually 156)\n",
    "max_encoder_seq_length, num_encoder_tokens, \\\n",
    "    max_decoder_seq_length, num_decoder_tokens = get_data_insights(input_songs, target_songs)\n",
    "\n",
    "\n",
    "print('Number of samples:', len(input_songs))\n",
    "print('Number of unique input tokens:', num_encoder_tokens)\n",
    "print('Number of unique output tokens:', num_decoder_tokens)\n",
    "print('Max sequence length for inputs:', max_encoder_seq_length)\n",
    "print('Max sequence length for outputs:', max_decoder_seq_length)\n",
    "\n",
    "\n",
    "# Get input data in shape (num_sample, max_seq_length, num_tokens)\n",
    "encoder_input_data, decoder_input_data, decoder_target_data = get_input_data(\n",
    "                                                                        input_songs, \n",
    "                                                                        target_songs,\n",
    "                                                                        max_encoder_seq_length, \n",
    "                                                                        num_encoder_tokens, \n",
    "                                                                        max_decoder_seq_length, \n",
    "                                                                        num_decoder_tokens)"
   ]
  },
  {
   "cell_type": "code",
   "execution_count": 2,
   "metadata": {},
   "outputs": [
    {
     "name": "stdout",
     "output_type": "stream",
     "text": [
      "\n",
      "__________________________________________________________________________________________________\n",
      "Layer (type)                    Output Shape         Param #     Connected to                     \n",
      "==================================================================================================\n",
      "input_1 (InputLayer)            (None, None, 156)    0                                            \n",
      "__________________________________________________________________________________________________\n",
      "input_2 (InputLayer)            (None, None, 156)    0                                            \n",
      "__________________________________________________________________________________________________\n",
      "lstm_1 (LSTM)                   [(None, 156), (None, 195312      input_1[0][0]                    \n",
      "__________________________________________________________________________________________________\n",
      "lstm_2 (LSTM)                   [(None, None, 156),  195312      input_2[0][0]                    \n",
      "                                                                 lstm_1[0][1]                     \n",
      "                                                                 lstm_1[0][2]                     \n",
      "__________________________________________________________________________________________________\n",
      "dense_1 (Dense)                 (None, None, 156)    24492       lstm_2[0][0]                     \n",
      "==================================================================================================\n",
      "Total params: 415,116\n",
      "Trainable params: 415,116\n",
      "Non-trainable params: 0\n",
      "__________________________________________________________________________________________________\n",
      "None\n",
      "\n"
     ]
    }
   ],
   "source": [
    "# Hyperparameters\n",
    "batch_size  =   32      # Batch size for training.\n",
    "epochs      =   5     # Number of epochs to train for.\n",
    "latent_dim  =   156     # Latent dimensionality of the encoding space.\n",
    "#num_samples =   10000   # Number of samples to train on.\n",
    "\n",
    "\n",
    "# Define an input sequence and process it.\n",
    "encoder_inputs = Input(shape=(None, num_encoder_tokens))\n",
    "encoder = LSTM(latent_dim, return_state=True)\n",
    "encoder_outputs, state_h, state_c = encoder(encoder_inputs)\n",
    "# We discard `encoder_outputs` and only keep the states.\n",
    "encoder_states = [state_h, state_c]\n",
    "\n",
    "\n",
    "# Set up the decoder, using `encoder_states` as initial state.\n",
    "decoder_inputs = Input(shape=(None, num_decoder_tokens))\n",
    "# We set up our decoder to return full output sequences,\n",
    "# and to return internal states as well. We don't use the\n",
    "# return states in the training model, but we will use them in inference.\n",
    "decoder_lstm = LSTM(latent_dim, return_sequences=True, return_state=True)\n",
    "decoder_outputs, _, _ = decoder_lstm(decoder_inputs,\n",
    "                                     initial_state=encoder_states)\n",
    "decoder_dense = Dense(num_decoder_tokens, activation='linear')\n",
    "decoder_outputs = decoder_dense(decoder_outputs)\n",
    "\n",
    "\n",
    "\n",
    "# Define the model that will turn\n",
    "# `encoder_input_data` & `decoder_input_data` into `decoder_target_data`\n",
    "model = Model([encoder_inputs, decoder_inputs], decoder_outputs)\n",
    "print()\n",
    "print(model.summary())\n",
    "print()"
   ]
  },
  {
   "cell_type": "code",
   "execution_count": null,
   "metadata": {
    "collapsed": true
   },
   "outputs": [],
   "source": []
  },
  {
   "cell_type": "code",
   "execution_count": 3,
   "metadata": {},
   "outputs": [
    {
     "name": "stdout",
     "output_type": "stream",
     "text": [
      "[*] Starting Training\n",
      "Epoch 1/5\n",
      "141/141 [==============================] - ETA: 9s - loss: 2.5033e-04 - acc: 1.000 - ETA: 4s - loss: 0.0072 - acc: 0.9994    - ETA: 2s - loss: 0.0078 - acc: 0.999 - ETA: 0s - loss: 0.0060 - acc: 0.999 - 8s 54ms/step - loss: 0.0103 - acc: 0.9987\n",
      "Epoch 2/5\n",
      "128/141 [==========================>...] - ETA: 4s - loss: 0.0210 - acc: 0.996 - ETA: 2s - loss: 0.0132 - acc: 0.997 - ETA: 1s - loss: 0.0089 - acc: 0.998 - ETA: 0s - loss: 0.0084 - acc: 0.9985"
     ]
    },
    {
     "name": "stderr",
     "output_type": "stream",
     "text": [
      "\r",
      " 97%|███████████████████████████████████████████████████████████████████████████████████████████████████████████████████████████████████████████████████████████████████████████████████████████████████████████████████████████████████████████████████████████████▋       | 175/180 [00:50<00:01,  3.50it/s]"
     ]
    },
    {
     "name": "stdout",
     "output_type": "stream",
     "text": [
      "141/141 [==============================] - 6s 42ms/step - loss: 0.0076 - acc: 0.9987\n",
      "Epoch 3/5\n",
      "141/141 [==============================] - ETA: 4s - loss: 0.0064 - acc: 0.998 - ETA: 2s - loss: 0.0054 - acc: 0.999 - ETA: 1s - loss: 0.0057 - acc: 0.998 - ETA: 0s - loss: 0.0073 - acc: 0.998 - 6s 41ms/step - loss: 0.0066 - acc: 0.9987\n",
      "Epoch 4/5\n",
      "141/141 [==============================] - ETA: 4s - loss: 0.0098 - acc: 0.998 - ETA: 2s - loss: 0.0079 - acc: 0.998 - ETA: 1s - loss: 0.0073 - acc: 0.998 - ETA: 0s - loss: 0.0069 - acc: 0.998 - 6s 43ms/step - loss: 0.0063 - acc: 0.9987\n",
      "Epoch 5/5\n",
      "141/141 [==============================] - ETA: 4s - loss: 2.0674e-04 - acc: 1.000 - ETA: 2s - loss: 0.0031 - acc: 0.9994    - ETA: 1s - loss: 0.0021 - acc: 0.999 - ETA: 0s - loss: 0.0030 - acc: 0.999 - 6s 42ms/step - loss: 0.0061 - acc: 0.9987\n",
      "[*] Ready to be used \n",
      "\n",
      "\n"
     ]
    },
    {
     "name": "stderr",
     "output_type": "stream",
     "text": [
      "C:\\Users\\Damygame\\Anaconda3\\envs\\tensorflow\\lib\\site-packages\\keras\\engine\\topology.py:2344: UserWarning: Layer lstm_2 was passed non-serializable keyword arguments: {'initial_state': [<tf.Tensor 'lstm_1/while/Exit_2:0' shape=(?, 156) dtype=float32>, <tf.Tensor 'lstm_1/while/Exit_3:0' shape=(?, 156) dtype=float32>]}. They will not be included in the serialized model (and thus will be missing at deserialization time).\n",
      "  str(node.arguments) + '. They will not be included '\n"
     ]
    }
   ],
   "source": [
    "# Run training\n",
    "model.compile(optimizer='rmsprop', loss='binary_crossentropy', metrics=['accuracy'])\n",
    "\n",
    "print('[*] Starting Training')\n",
    "model.fit([encoder_input_data, decoder_input_data], decoder_target_data,\n",
    "          batch_size=batch_size,\n",
    "          epochs=epochs,\n",
    "          verbose=1)\n",
    "# model.load_weights('s2s.h5')\n",
    "print('[*] Ready to be used \\n\\n')\n",
    "# Save model\n",
    "model.save('s2s.h5')\n",
    "\n",
    "\n",
    "\n",
    "# Next: inference mode (sampling).\n",
    "# Here's the drill:\n",
    "# 1) encode input and retrieve initial decoder state\n",
    "# 2) run one step of decoder with this initial state\n",
    "# and a \"start of sequence\" token as target.\n",
    "# Output will be the next target token\n",
    "# 3) Repeat with the current target token and current states\n",
    "\n",
    "# Define sampling models\n",
    "encoder_model = Model(encoder_inputs, encoder_states)\n",
    "\n",
    "decoder_state_input_h = Input(shape=(latent_dim,))\n",
    "decoder_state_input_c = Input(shape=(latent_dim,))\n",
    "decoder_states_inputs = [decoder_state_input_h, decoder_state_input_c]\n",
    "decoder_outputs, state_h, state_c = decoder_lstm(\n",
    "    decoder_inputs, initial_state=decoder_states_inputs)\n",
    "decoder_states = [state_h, state_c]\n",
    "decoder_outputs = decoder_dense(decoder_outputs)\n",
    "decoder_model = Model(\n",
    "    [decoder_inputs] + decoder_states_inputs,\n",
    "    [decoder_outputs] + decoder_states)"
   ]
  },
  {
   "cell_type": "code",
   "execution_count": 21,
   "metadata": {
    "collapsed": true
   },
   "outputs": [],
   "source": [
    "def decode_sequence(input_seq):\n",
    "    # Encode the input as state vectors.\n",
    "    states_value = encoder_model.predict(input_seq)\n",
    "\n",
    "    # Generate empty target sequence of length 1.\n",
    "    target_seq = np.zeros((1, 1, num_decoder_tokens))\n",
    "    # Populate the first character of target sequence with the start character.\n",
    "    target_seq[0, 0, 0] = 1.\n",
    "\n",
    "    # Sampling loop for a batch of sequences\n",
    "    # (to simplify, here we assume a batch of size 1).\n",
    "    stop_condition = False\n",
    "    song_matrix = np.zeros(\n",
    "                        (max_decoder_seq_length, \n",
    "                        num_decoder_tokens),\n",
    "                        dtype='float32')\n",
    "    i = 0\n",
    "    while not stop_condition:\n",
    "        output_tokens, h, c = decoder_model.predict(\n",
    "            [target_seq] + states_value)\n",
    "\n",
    "        # Sample a token\n",
    "        target_seq = np.zeros((1, 1, num_decoder_tokens))\n",
    "        idx = np.argmax(output_tokens[-1,-1,:])\n",
    "        #print(output_tokens[-1,-1,:])\n",
    "        song_matrix[i, idx] = 1\n",
    "        target_seq[0, 0, idx] = 1.\n",
    "        #print(np.array(h).shape)\n",
    "        # Exit condition: either hit max length\n",
    "        # or find stop character.\n",
    "        if (i+2 > max_decoder_seq_length):\n",
    "            stop_condition = True\n",
    "\n",
    "        # Update the target sequence (of length 1).\n",
    "        \n",
    "        \n",
    "\n",
    "        if i%250 == 0:\n",
    "            print('[iter:{}] [max_decoder_seq_length: {}]'.format(i, max_decoder_seq_length))\n",
    "        i+=1\n",
    "\n",
    "        # Update states\n",
    "        states_value = [h, c]\n",
    "\n",
    "    return song_matrix"
   ]
  },
  {
   "cell_type": "code",
   "execution_count": 22,
   "metadata": {
    "scrolled": true
   },
   "outputs": [
    {
     "name": "stdout",
     "output_type": "stream",
     "text": [
      "[*] Encoding-Decoding\n",
      "[iter:0] [max_decoder_seq_length: 500]\n",
      "[iter:250] [max_decoder_seq_length: 500]\n",
      "-\n",
      "Input sentence: [0 0 0 0 0 0 0 0 0 0 0 0 1 0 1 0 1 0 0 1 0 1 0 0 0 0 0 0 1 0 0 0 1 0 0 1 0\n",
      " 0 1 0 1 0 0 0 1 0 0 1 0 0 0 0 1 0 0 0 0 0 0 0 0 0 0 0 0 0 0 0 0 0 0 0 0 0\n",
      " 0 0 0 0 0 0 0 0 0 0 0 0 0 0 0 0 0 0 0 0 0 0 0 0 0 0 0 0 0 0 0 0 0 0 0 0 0\n",
      " 0 0 0 0 0 0 0 0 0 0 0 0 0 0 0 0 0 0 0 0 0 0 0 0 0 0 0 0 0 0 0 0 0 0 0 0 0\n",
      " 0 0 0 0 0 0 0 0]\n",
      "Decoded sentence: [ 0.  0.  0.  0.  0.  0.  0.  0.  0.  0.  0.  0.  0.  0.  0.  0.  0.  0.\n",
      "  0.  0.  0.  0.  0.  0.  0.  0.  0.  0.  0.  0.  0.  0.  0.  0.  0.  0.\n",
      "  0.  0.  0.  0.  0.  0.  0.  0.  0.  0.  0.  0.  1.  0.  0.  0.  0.  0.\n",
      "  0.  0.  0.  0.  0.  0.  0.  0.  0.  0.  0.  0.  0.  0.  0.  0.  0.  0.\n",
      "  0.  0.  0.  0.  0.  0.  0.  0.  0.  0.  0.  0.  0.  0.  0.  0.  0.  0.\n",
      "  0.  0.  0.  0.  0.  0.  0.  0.  0.  0.  0.  0.  0.  0.  0.  0.  0.  0.\n",
      "  0.  0.  0.  0.  0.  0.  0.  0.  0.  0.  0.  0.  0.  0.  0.  0.  0.  0.\n",
      "  0.  0.  0.  0.  0.  0.  0.  0.  0.  0.  0.  0.  0.  0.  0.  0.  0.  0.\n",
      "  0.  0.  0.  0.  0.  0.  0.  0.  0.  0.  0.  0.]\n",
      "[[ True  True  True ...,  True  True  True]\n",
      " [ True  True  True ...,  True  True  True]\n",
      " [ True  True  True ...,  True  True  True]\n",
      " ..., \n",
      " [ True  True  True ...,  True  True  True]\n",
      " [ True  True  True ...,  True  True  True]\n",
      " [ True  True  True ...,  True  True  True]]\n"
     ]
    }
   ],
   "source": [
    "# Take one sequence (part of the training test)\n",
    "# for trying out decoding.\n",
    "print('[*] Encoding-Decoding')\n",
    "input_seq = encoder_input_data[0:-1]\n",
    "decoded_song = decode_sequence(input_seq)\n",
    "print('-')\n",
    "print('Input sentence:', input_songs[0][40])\n",
    "print('Decoded sentence:', decoded_song[40])\n",
    "\n",
    "print(input_songs[0]==decoded_song)\n",
    "\n",
    "\n",
    "\n",
    "# Converting Song to midi from matrix\n",
    "midi_manipulation.noteStateMatrixToMidi(decoded_song)"
   ]
  },
  {
   "cell_type": "code",
   "execution_count": 17,
   "metadata": {
    "collapsed": true
   },
   "outputs": [],
   "source": [
    "midi_manipulation.noteStateMatrixToMidi(decoder_input_data[0])"
   ]
  },
  {
   "cell_type": "code",
   "execution_count": 23,
   "metadata": {},
   "outputs": [
    {
     "data": {
      "text/plain": [
       "0.002"
      ]
     },
     "execution_count": 23,
     "metadata": {},
     "output_type": "execute_result"
    }
   ],
   "source": [
    "from sklearn.metrics import accuracy_score\n",
    "\n",
    "accuracy_score(encoder_input_data[0], decoded_song)"
   ]
  },
  {
   "cell_type": "code",
   "execution_count": null,
   "metadata": {
    "collapsed": true
   },
   "outputs": [],
   "source": []
  }
 ],
 "metadata": {
  "kernelspec": {
   "display_name": "tensorflow",
   "language": "python",
   "name": "tensorflow"
  },
  "language_info": {
   "codemirror_mode": {
    "name": "ipython",
    "version": 3
   },
   "file_extension": ".py",
   "mimetype": "text/x-python",
   "name": "python",
   "nbconvert_exporter": "python",
   "pygments_lexer": "ipython3",
   "version": "3.6.3"
  }
 },
 "nbformat": 4,
 "nbformat_minor": 2
}
